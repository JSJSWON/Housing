{
 "cells": [
  {
   "cell_type": "code",
   "execution_count": 1,
   "id": "ff2b3fa4",
   "metadata": {},
   "outputs": [],
   "source": [
    "# Python ≥3.5 is required\n",
    "import sys\n",
    "assert sys.version_info >= (3, 5)\n",
    "\n",
    "# Scikit-Learn ≥0.20 is required\n",
    "import sklearn\n",
    "assert sklearn.__version__ >= \"0.20\"\n",
    "\n",
    "try:\n",
    "    # %tensorflow_version only exists in Colab.\n",
    "    %tensorflow_version 2.x\n",
    "except Exception:\n",
    "    pass\n",
    "\n",
    "# TensorFlow ≥2.0 is required\n",
    "import tensorflow as tf\n",
    "assert tf.__version__ >= \"2.0\"\n",
    "\n",
    "# Common imports\n",
    "import numpy as np\n",
    "import os\n",
    "\n",
    "# to make this notebook's output stable across runs\n",
    "np.random.seed(42)\n",
    "\n",
    "# To plot pretty figures\n",
    "%matplotlib inline\n",
    "import matplotlib as mpl\n",
    "import matplotlib.pyplot as plt\n",
    "mpl.rc('axes', labelsize=14)\n",
    "mpl.rc('xtick', labelsize=12)\n",
    "mpl.rc('ytick', labelsize=12)\n",
    "\n",
    "# Where to save the figures\n",
    "PROJECT_ROOT_DIR = \".\"\n",
    "CHAPTER_ID = \"ann\"\n",
    "IMAGES_PATH = os.path.join(PROJECT_ROOT_DIR, \"images\", CHAPTER_ID)\n",
    "os.makedirs(IMAGES_PATH, exist_ok=True)\n",
    "\n",
    "def save_fig(fig_id, tight_layout=True, fig_extension=\"png\", resolution=300):\n",
    "    path = os.path.join(IMAGES_PATH, fig_id + \".\" + fig_extension)\n",
    "    print(\"Saving figure\", fig_id)\n",
    "    if tight_layout:\n",
    "        plt.tight_layout()\n",
    "    plt.savefig(path, format=fig_extension, dpi=resolution)"
   ]
  },
  {
   "cell_type": "markdown",
   "id": "90249587",
   "metadata": {},
   "source": [
    "### 10.1.3 퍼셉트론\n",
    "\n",
    "perceptron은 가장 간단한 인공 신경망 구조 중 하나 -> TLU(threshold logic unit) 또는 LTU(linear threshold unit)라고 불리는 조금 다른 형태의 인공 뉴런을 기반으로 함\n",
    "\n",
    "입력과 출력이 어떤 숫자이고, 각각의 입력 연결은 가중치와 연관되어 있음\n",
    "\n",
    "TLU: 입력의 가중치 합을 계산($ z = w_1x_1 + w_2x_2 + ... + w_nx_n = x^Tw $)한 뒤 계산된 합에 `계단 함수(step function)`를 적용하여 결과를 출력\n",
    "## $$ 출력 = h_w(x) = step(z) = step(x^Tw) $$\n",
    "\n",
    "- 계단함수의 예\n",
    "    - heavyside step function(unit step function)\n",
    "    - sign function\n",
    "\n",
    "TLU를 훈련한다는 것 = w0, w1, w2, ...를 찾는다는 것\n",
    "\n",
    "- 퍼셉트론: 층이 하나뿐인 TLU. 각 TLU는 모든 입력에 연결되어 있음\n",
    "    - 한 층에 있는 모든 뉴런이 이전 층의 모든 뉴런과 연결되어 있을 때 -> fully connected layer 또는 dense layer\n",
    "---\n",
    "fully connected layer의 출력 계산\n",
    "## $$ h_{W,b(X) = ϕ(XW + b)} $$\n",
    "\n",
    "- X: 입력 특성의 행렬(행: 샘플, 열: 특성)\n",
    "- W: 가중치 행렬. 편향을 제외한 모든 연결 가중치\n",
    "- b: 편향 벡터\n",
    "- ϕ: 활성화 함수(인공 뉴런이 TLU일 경우 이 함수는 step function임)\n",
    "---\n",
    "퍼셉트론은 어떻게 훈련될까?\n",
    "\n",
    "헤브의 규칙(Hebb's rule)에서 영감을 받음 -> 뉴런이 다른 뉴런을 활성화시킬 때 이 두 뉴런의 연결이 강해진다는 제안\n",
    "\n",
    "퍼셉트론은 예측할 때 만드는 오차를 반영하도록 조금 변형된 규칙을 사용하여 훈련됨 -> 퍼셉트론 학습 규칙은 오차가 감소되도록 연결을 강화시킴\n",
    "- 퍼셉트론 학습 규칙(가중치 업데이트)\n",
    "## $$ w_{i, j}^{(next step)} = w_{i, j} + η(y_j - \\hat{y}_j)x_i $$\n",
    "- $ w_{i, j} $: i번째 입력 뉴런과 j번째 출력 뉴런 사이를 연결하는 가중치\n",
    "- $ x_i $: 현재 훈련 샘플의 i번째 뉴런의 입력값\n",
    "- $ \\hat{y}_j $: 현재 훈련 샘플의 j번째 출력 뉴런의 출력값\n",
    "- $ y_j $: 현재 훈련 샘플의 j번째 출력 뉴런의 타깃값\n",
    "- $ η $: 학습률"
   ]
  },
  {
   "cell_type": "code",
   "execution_count": 2,
   "id": "6cef851d",
   "metadata": {},
   "outputs": [],
   "source": [
    "import numpy as np\n",
    "from sklearn.datasets import load_iris\n",
    "from sklearn.linear_model import Perceptron"
   ]
  },
  {
   "cell_type": "code",
   "execution_count": 3,
   "id": "8564029f",
   "metadata": {},
   "outputs": [
    {
     "data": {
      "text/plain": [
       "\"\\nsklearn의 perceptron은\\nloss='perceptron', learning_rate='constant', eta0=1, penalty=None\\n인 SGDClassifier와 같음\\n\""
      ]
     },
     "execution_count": 3,
     "metadata": {},
     "output_type": "execute_result"
    }
   ],
   "source": [
    "iris = load_iris()\n",
    "X = iris.data[:, (2, 3)]\n",
    "y = (iris.target == 0).astype(np.int32)\n",
    "\n",
    "per_clf = Perceptron(max_iter=1000, tol=1e-3, random_state=42)\n",
    "per_clf.fit(X, y)\n",
    "\n",
    "y_pred = per_clf.predict([[2, 0.5]])\n",
    "\n",
    "'''\n",
    "sklearn의 perceptron은\n",
    "loss='perceptron', learning_rate='constant', eta0=1, penalty=None\n",
    "인 SGDClassifier와 같음\n",
    "'''\n",
    "# 로지스틱 회귀와 달리 퍼셉트론은 클래스 확률을 제공하지 않으며 고정된 임곗값을 기준으로 예측을 만듦\n",
    "# 이런 이유로 퍼셉트론보다 로지스틱 회귀를 선호함\n",
    "\n",
    "# 퍼셉트론(단층)은 여러 심각한 약점이 있음(특히 XOR 분류 문제를 풀지 못함)\n",
    "# 퍼셉트론을 여러 개 쌓아올리면 일부 제약을 줄일 수 있음 -> 다층 퍼셉트론(MLP) -> XOR 문제 풀 수 있음"
   ]
  },
  {
   "cell_type": "code",
   "execution_count": 4,
   "id": "68817fd1",
   "metadata": {
    "scrolled": true
   },
   "outputs": [
    {
     "data": {
      "text/plain": [
       "array([1], dtype=int32)"
      ]
     },
     "execution_count": 4,
     "metadata": {},
     "output_type": "execute_result"
    }
   ],
   "source": [
    "y_pred"
   ]
  },
  {
   "cell_type": "code",
   "execution_count": 5,
   "id": "b5267865",
   "metadata": {},
   "outputs": [
    {
     "name": "stdout",
     "output_type": "stream",
     "text": [
      "Saving figure perceptron_iris_plot\n"
     ]
    },
    {
     "data": {
      "image/png": "[encoded data removed]",
      "text/plain": [
       "<Figure size 720x288 with 1 Axes>"
      ]
     },
     "metadata": {
      "needs_background": "light"
     },
     "output_type": "display_data"
    }
   ],
   "source": [
    "a = -per_clf.coef_[0][0] / per_clf.coef_[0][1]\n",
    "b = -per_clf.intercept_ / per_clf.coef_[0][1]\n",
    "\n",
    "axes = [0, 5, 0, 2]\n",
    "\n",
    "x0, x1 = np.meshgrid(\n",
    "        np.linspace(axes[0], axes[1], 500).reshape(-1, 1),\n",
    "        np.linspace(axes[2], axes[3], 200).reshape(-1, 1),\n",
    "    )\n",
    "X_new = np.c_[x0.ravel(), x1.ravel()]\n",
    "y_predict = per_clf.predict(X_new)\n",
    "zz = y_predict.reshape(x0.shape)\n",
    "\n",
    "plt.figure(figsize=(10, 4))\n",
    "plt.plot(X[y==0, 0], X[y==0, 1], \"bs\", label=\"Not Iris-Setosa\")\n",
    "plt.plot(X[y==1, 0], X[y==1, 1], \"yo\", label=\"Iris-Setosa\")\n",
    "\n",
    "plt.plot([axes[0], axes[1]], [a * axes[0] + b, a * axes[1] + b], \"k-\", linewidth=3)\n",
    "from matplotlib.colors import ListedColormap\n",
    "custom_cmap = ListedColormap(['#9898ff', '#fafab0'])\n",
    "\n",
    "plt.contourf(x0, x1, zz, cmap=custom_cmap)\n",
    "plt.xlabel(\"Petal length\", fontsize=14)\n",
    "plt.ylabel(\"Petal width\", fontsize=14)\n",
    "plt.legend(loc=\"lower right\", fontsize=14)\n",
    "plt.axis(axes)\n",
    "\n",
    "save_fig(\"perceptron_iris_plot\")\n",
    "plt.show()"
   ]
  },
  {
   "cell_type": "markdown",
   "id": "a13600d7",
   "metadata": {},
   "source": [
    "논리회로: https://terms.naver.com/entry.naver?docId=5741231&cid=60217&categoryId=60217\n",
    "\n",
    "퍼셉트론: https://wikidocs.net/24958"
   ]
  },
  {
   "cell_type": "markdown",
   "id": "839e80d4",
   "metadata": {},
   "source": [
    "### 10.1.4 다층 퍼셉트론과 역전파\n",
    "\n",
    "다층 퍼셉트론은 입력층, `은닉층`, 출력층으로 구성됨\n",
    "\n",
    "입력층에 가까운 층을 하위 층(lower layer), 출력층에 가까운 층을 상위 층(upper layer)이라고 함\n",
    "\n",
    "출력층을 제외하고 모든 층은 편향 뉴런을 포함하며 다음 층과 완전히 연결되어 있음\n",
    "\n",
    "---\n",
    "\n",
    "은닉층을 여러 개 쌓아 올린 인공 신경망을 `심층 신경망(deep neural network, DNN)`이라고 함\n",
    "\n",
    "---\n",
    "\n",
    "연구자들은 다층 퍼셉트론을 훈련할 방법을 찾기 위해 오랫동안 노력했지만 실패함 -> 하지만 `역전파(backpropagation)` 훈련 알고리즘을 소개하는 획기적인 논문이 나옴 -> 이 알고리즘은 효율적인 기법으로 그레디언트를 계산하는 경사 하강법임\n",
    "\n",
    "- 역전파\n",
    "1. input을 넣고 쭉 계산하는데 역방향 계산을 위해 중간 계산값을 모두 저장해야 함\n",
    "2. 출력 오차 측정(손실 함수로 기대하는 출력과 실제 출력을 비교하고 오차 측정 값을 반환)\n",
    "3. 각 출력 연결이 이 오차에 기여하는 정도(gradient)를 계산(chain rule)을 적용하면 빠르고 정확하게 계산 가능)\n",
    "    - 신경망을 통과하면서 만들어진 굉장히 복잡한 고차원의 합성함수의 기울기(gradient)를 계산하기 위해서는 미분의 연쇄 법칙을 활용해야 함\n",
    "    - 합성함수의 기울기를 계산하려면 이전 함수의 미분값(오차에 기여하는 정도)이 필요 -> 이전 함수의 미분값을 구하기 위해선 이전 함수의 이전 함수의 미분값이 필요 -> ... -> 이렇게 미분의 연쇄법칙의 계산을 따라 뒤에서부터 하나씩 계산하기 때문에 `역전파`\n",
    "4. 이렇게 구한 모든 오차 그레디언트를 이용해 모든 연결 가중치를 수정\n",
    "> 은닉층의 연결 가중치를 랜덤하게 초기화하는 것이 중요! -> 모든 가중치와 편향을 같은 값으로 초기화하면 모든 뉴런이 완전히 같아지면서 역전파해도 모든 뉴런이 동일하게 바뀌겠지(하나의 뉴런인 것처럼 행동하겠지)\n",
    "\n",
    "---\n",
    "\n",
    "논문 저자들은 위 알고리즘이 잘 작동하게 다층 퍼셉트론 구조에 중요한 변화를 줌 -> 활성화 함수를 바꿈\n",
    "\n",
    "- 시그모이드 함수\n",
    "## $$ σ(z) = \\frac{1}{1+e^{-z}} $$\n",
    "\n",
    "- 하이퍼볼릭 탄젠트 함수(쌍곡 탄젠트 함수)\n",
    "## $$ tanh(x) = \\frac{sinh(x)}{cosh(x)} = \\frac{e^x-e^{-x}}{e^x+e^{-x}} $$\n",
    "    - $ sinh(x) = \\frac{e^x-e^{-x}}{2} $\n",
    "    - $ cosh(x) = \\frac{e^x+e^{-x}}{2} $\n",
    "    - $(cosh(x), sinh(x))$는 쌍곡선 $ x^2 - y^2 = 1 $을 그림\n",
    "\n",
    "\n",
    "- ReLU 함수(Rectified Linear Unit)\n",
    "## $$ ReLU(z) = max(0, z) $$\n",
    "\n",
    "> 활성화 함수가 왜 필요? -> 선형 변환을 여러 개 연결해도 선형 변환일 뿐임 -> 예) f = 2x+1, g = 3x -> f(g) = 6x+1 -> 따라서 층 사이에 비선형성을 추가하지 않으면 아무리 층을 많이 쌓아도 하나의 층과 동일해짐 -> 이런 층으로는 복잡한 문제를 풀 수 없음 -> 비선형 활성화 함수가 있는 충분히 큰 신경망은 이론적으로 어떤 연속 함수도 근사할 수 있음"
   ]
  },
  {
   "cell_type": "code",
   "execution_count": 6,
   "id": "797015c1",
   "metadata": {},
   "outputs": [],
   "source": [
    "def sigmoid(z):\n",
    "    return 1 / (1 + np.exp(-z))\n",
    "\n",
    "def relu(z):\n",
    "    return np.maximum(0, z)\n",
    "\n",
    "def derivative(f, z, eps=0.000001):\n",
    "    return (f(z + eps) - f(z - eps))/(2 * eps)"
   ]
  },
  {
   "cell_type": "code",
   "execution_count": 7,
   "id": "880472b8",
   "metadata": {},
   "outputs": [
    {
     "name": "stdout",
     "output_type": "stream",
     "text": [
      "Saving figure activation_functions_plot\n"
     ]
    },
    {
     "data": {
      "image/png": "[encoded data removed]",
      "text/plain": [
       "<Figure size 792x288 with 2 Axes>"
      ]
     },
     "metadata": {
      "needs_background": "light"
     },
     "output_type": "display_data"
    }
   ],
   "source": [
    "z = np.linspace(-5, 5, 200)\n",
    "\n",
    "plt.figure(figsize=(11,4))\n",
    "\n",
    "plt.subplot(121)\n",
    "plt.plot(z, np.sign(z), \"r-\", linewidth=1, label=\"Step\")\n",
    "plt.plot(z, sigmoid(z), \"g--\", linewidth=2, label=\"Sigmoid\")\n",
    "plt.plot(z, np.tanh(z), \"b-\", linewidth=2, label=\"Tanh\")\n",
    "plt.plot(z, relu(z), \"m-.\", linewidth=2, label=\"ReLU\")\n",
    "plt.grid(True)\n",
    "plt.legend(loc=\"center right\", fontsize=14)\n",
    "plt.title(\"Activation functions\", fontsize=14)\n",
    "plt.axis([-5, 5, -1.2, 1.2])\n",
    "\n",
    "plt.subplot(122)\n",
    "plt.plot(z, derivative(np.sign, z), \"r-\", linewidth=1, label=\"Step\")\n",
    "plt.plot(0, 0, \"ro\", markersize=5)\n",
    "plt.plot(0, 0, \"rx\", markersize=10)\n",
    "plt.plot(z, derivative(sigmoid, z), \"g--\", linewidth=2, label=\"Sigmoid\")\n",
    "plt.plot(z, derivative(np.tanh, z), \"b-\", linewidth=2, label=\"Tanh\")\n",
    "plt.plot(z, derivative(relu, z), \"m-.\", linewidth=2, label=\"ReLU\")\n",
    "plt.grid(True)\n",
    "#plt.legend(loc=\"center right\", fontsize=14)\n",
    "plt.title(\"Derivatives\", fontsize=14)\n",
    "plt.axis([-5, 5, -0.2, 1.2])\n",
    "\n",
    "save_fig(\"activation_functions_plot\")\n",
    "plt.show()"
   ]
  },
  {
   "cell_type": "markdown",
   "id": "0834bef3",
   "metadata": {},
   "source": [
    "### 10.1.5 회귀를 위한 다층 퍼셉트론\n",
    "\n",
    "일반적으로 회귀용 다층 퍼셉트론을 만들 때\n",
    "- 출력층의 활성화 함수: 없음. 또는 출력이 양수일 때 ReLU/softplus, 출력을 특정 범위로 제한할 때 sigmoid/tanh\n",
    "- 손실 함수: 평균 제곱 오차, 이상치가 있다면 평균 절댓값 오차"
   ]
  },
  {
   "cell_type": "markdown",
   "id": "a3ac2fa3",
   "metadata": {},
   "source": [
    "### 10.1.6 분류를 위한 다층 퍼셉트론\n",
    "\n",
    "일반적으로 분류용 다층 퍼셉트론을 만들 때\n",
    "\n",
    "|하이퍼파라미터|이진 분류|다중 레이블 분류(어떤 메일이 스팸 메일인지? 동시에 긴급 메일인지? -> 각각에 대한 확률이 필요)|다중 분류(3개 이상의 클래스 중 한 클래스에만 속할 수 있을 때. 예) 숫자 이미지 분류)|\n",
    "|-|-|-|-|\n",
    "|출력 뉴런 수|1개(0과 1 사이의 실수 = 양상 클래스에 대한 예측 확률)|레이블마다 1개|클래스마다 1개(출력층에 softmax function 사용 -> 1일 확률, 2일 확률, ... -> 전체 확률의 합 = 1)|\n",
    "|출력층의 활성화 함수|sigmoid|sigmoid|sigmoid|\n",
    "|손실 함수(확률 분포를 예측해야 하므로 일반적으로 크로스 엔트로피 사용)|크로스 엔트로피|크로스 엔트로피|크로스 엔트로피|"
   ]
  },
  {
   "cell_type": "markdown",
   "id": "bc32d290",
   "metadata": {},
   "source": [
    "## 10.2 케라스로 다층 퍼셉트론 구현하기"
   ]
  },
  {
   "cell_type": "code",
   "execution_count": 8,
   "id": "eca2fca1",
   "metadata": {},
   "outputs": [],
   "source": [
    "import tensorflow as tf\n",
    "from tensorflow import keras"
   ]
  },
  {
   "cell_type": "code",
   "execution_count": 9,
   "id": "cf560fd0",
   "metadata": {},
   "outputs": [
    {
     "data": {
      "text/plain": [
       "'2.9.1'"
      ]
     },
     "execution_count": 9,
     "metadata": {},
     "output_type": "execute_result"
    }
   ],
   "source": [
    "tf.__version__"
   ]
  },
  {
   "cell_type": "code",
   "execution_count": 10,
   "id": "82bd0049",
   "metadata": {},
   "outputs": [
    {
     "data": {
      "text/plain": [
       "'2.9.0'"
      ]
     },
     "execution_count": 10,
     "metadata": {},
     "output_type": "execute_result"
    }
   ],
   "source": [
    "keras.__version__"
   ]
  },
  {
   "cell_type": "markdown",
   "id": "1ef82b6d",
   "metadata": {},
   "source": [
    "### 10.2.2 시퀀셜 API를 사용하여 이미지 분류기 만들기\n",
    "\n",
    "먼저 데이터셋을 적재해야 함.\n",
    "\n",
    "여기선 Fashion MNIST로 함(10개의 클래스로 이루어진 28*28 픽셀 크기의 흑백 이미지 70000개인 MNIST와 형태가 같지만 패션 아이템을 나타냄 -> 클래스마다 샘플이 더 다양하므로 훨씬 어려운 문제임)"
   ]
  },
  {
   "cell_type": "markdown",
   "id": "4b3d572e",
   "metadata": {},
   "source": [
    "#### 케라스를 사용하여 데이터셋 적재하기"
   ]
  },
  {
   "cell_type": "code",
   "execution_count": 11,
   "id": "9b54ff93",
   "metadata": {},
   "outputs": [],
   "source": [
    "fashion_mnist = keras.datasets.fashion_mnist\n",
    "(X_train_full, y_train_full), (X_test, y_test) = fashion_mnist.load_data()"
   ]
  },
  {
   "cell_type": "code",
   "execution_count": 12,
   "id": "85fa0d7b",
   "metadata": {},
   "outputs": [
    {
     "data": {
      "text/plain": [
       "(60000, 28, 28)"
      ]
     },
     "execution_count": 12,
     "metadata": {},
     "output_type": "execute_result"
    }
   ],
   "source": [
    "X_train_full.shape # 28*28 크기의 배열 60000개"
   ]
  },
  {
   "cell_type": "code",
   "execution_count": 13,
   "id": "1e906e25",
   "metadata": {},
   "outputs": [
    {
     "data": {
      "text/plain": [
       "dtype('uint8')"
      ]
     },
     "execution_count": 13,
     "metadata": {},
     "output_type": "execute_result"
    }
   ],
   "source": [
    "X_train_full.dtype # uint8: 8비트의 부호 없는 정수형"
   ]
  },
  {
   "cell_type": "code",
   "execution_count": 14,
   "id": "ba53b285",
   "metadata": {},
   "outputs": [],
   "source": [
    "# validation set 만들기\n",
    "# 경사 하강법을 사용할 것이므로 입력 특성의 스케일 조정하기(간편하게 255.0으로 나누기)\n",
    "\n",
    "X_valid, X_train = X_train_full[:5000] / 255., X_train_full[5000:] / 255.\n",
    "y_valid, y_train = y_train_full[:5000], y_train_full[5000:]\n",
    "X_test = X_test / 255."
   ]
  },
  {
   "cell_type": "code",
   "execution_count": 15,
   "id": "b32cb332",
   "metadata": {},
   "outputs": [
    {
     "data": {
      "image/png": "[encoded data removed]",
      "text/plain": [
       "<Figure size 432x288 with 1 Axes>"
      ]
     },
     "metadata": {
      "needs_background": "light"
     },
     "output_type": "display_data"
    }
   ],
   "source": [
    "plt.imshow(X_train[0], cmap=\"binary\")\n",
    "plt.axis('off')\n",
    "plt.show()"
   ]
  },
  {
   "cell_type": "code",
   "execution_count": 16,
   "id": "86994a65",
   "metadata": {},
   "outputs": [
    {
     "data": {
      "text/plain": [
       "array([4, 0, 7, ..., 3, 0, 5], dtype=uint8)"
      ]
     },
     "execution_count": 16,
     "metadata": {},
     "output_type": "execute_result"
    }
   ],
   "source": [
    "y_train"
   ]
  },
  {
   "cell_type": "code",
   "execution_count": 17,
   "id": "046c8df7",
   "metadata": {},
   "outputs": [
    {
     "data": {
      "text/plain": [
       "array([0, 1, 2, 3, 4, 5, 6, 7, 8, 9], dtype=uint8)"
      ]
     },
     "execution_count": 17,
     "metadata": {},
     "output_type": "execute_result"
    }
   ],
   "source": [
    "np.unique(y_train)"
   ]
  },
  {
   "cell_type": "code",
   "execution_count": 18,
   "id": "b046343b",
   "metadata": {},
   "outputs": [],
   "source": [
    "class_names = [\"T-shirt/top\", \"Trouser\", \"Pullover\", \"Dress\", \"Coat\",\n",
    "               \"Sandal\", \"Shirt\", \"Sneaker\", \"Bag\", \"Ankle boot\"]\n",
    "# 클래스 이름의 리스트 만들기"
   ]
  },
  {
   "cell_type": "code",
   "execution_count": 19,
   "id": "d460af3e",
   "metadata": {},
   "outputs": [
    {
     "data": {
      "text/plain": [
       "'Coat'"
      ]
     },
     "execution_count": 19,
     "metadata": {},
     "output_type": "execute_result"
    }
   ],
   "source": [
    "class_names[y_train[0]]"
   ]
  },
  {
   "cell_type": "code",
   "execution_count": 20,
   "id": "b7d482b6",
   "metadata": {},
   "outputs": [
    {
     "data": {
      "text/plain": [
       "(5000, 28, 28)"
      ]
     },
     "execution_count": 20,
     "metadata": {},
     "output_type": "execute_result"
    }
   ],
   "source": [
    "X_valid.shape"
   ]
  },
  {
   "cell_type": "code",
   "execution_count": 21,
   "id": "a5305d87",
   "metadata": {},
   "outputs": [
    {
     "data": {
      "text/plain": [
       "(10000, 28, 28)"
      ]
     },
     "execution_count": 21,
     "metadata": {},
     "output_type": "execute_result"
    }
   ],
   "source": [
    "X_test.shape"
   ]
  },
  {
   "cell_type": "code",
   "execution_count": 22,
   "id": "b4376b5f",
   "metadata": {},
   "outputs": [
    {
     "name": "stdout",
     "output_type": "stream",
     "text": [
      "Saving figure fashion_mnist_plot\n"
     ]
    },
    {
     "data": {
      "image/png": "[encoded data removed]",
      "text/plain": [
       "<Figure size 864x345.6 with 40 Axes>"
      ]
     },
     "metadata": {
      "needs_background": "light"
     },
     "output_type": "display_data"
    }
   ],
   "source": [
    "n_rows = 4\n",
    "n_cols = 10\n",
    "plt.figure(figsize=(n_cols * 1.2, n_rows * 1.2))\n",
    "for row in range(n_rows):\n",
    "    for col in range(n_cols):\n",
    "        index = n_cols * row + col\n",
    "        plt.subplot(n_rows, n_cols, index + 1)\n",
    "        plt.imshow(X_train[index], cmap=\"binary\", interpolation=\"nearest\")\n",
    "        plt.axis('off')\n",
    "        plt.title(class_names[y_train[index]], fontsize=12)\n",
    "plt.subplots_adjust(wspace=0.2, hspace=0.5)\n",
    "save_fig('fashion_mnist_plot', tight_layout=False)\n",
    "plt.show()\n",
    "\n",
    "# 패션 MNIST의 샘플"
   ]
  },
  {
   "cell_type": "markdown",
   "id": "b481813a",
   "metadata": {},
   "source": [
    "#### 시퀀셜 API를 사용하여 모델 만들기\n",
    "\n",
    "Keras 에서는 신경망 모델을 만드는 방식 중 하나인 Seqential Model을 제공함. 이는 순차적으로 layer를 더해나가는 방식"
   ]
  },
  {
   "cell_type": "code",
   "execution_count": 23,
   "id": "108b9e6e",
   "metadata": {},
   "outputs": [
    {
     "name": "stdout",
     "output_type": "stream",
     "text": [
      "Metal device set to: Apple M1\n"
     ]
    },
    {
     "name": "stderr",
     "output_type": "stream",
     "text": [
      "2022-08-25 13:17:59.726645: I tensorflow/core/common_runtime/pluggable_device/pluggable_device_factory.cc:305] Could not identify NUMA node of platform GPU ID 0, defaulting to 0. Your kernel may not have been built with NUMA support.\n",
      "2022-08-25 13:17:59.726797: I tensorflow/core/common_runtime/pluggable_device/pluggable_device_factory.cc:271] Created TensorFlow device (/job:localhost/replica:0/task:0/device:GPU:0 with 0 MB memory) -> physical PluggableDevice (device: 0, name: METAL, pci bus id: <undefined>)\n"
     ]
    }
   ],
   "source": [
    "# 신경망 만들기\n",
    "\n",
    "model = keras.models.Sequential() # 시퀀셜 모델 만듦\n",
    "\n",
    "# 입력 이미지를 1D 배열로 변환하는 층(fully connected layer에 전달하기 위해). 어떤 모델 파라미터도 없고 그냥 전처리만 함\n",
    "# 첫 번째 층이므로 input_shape를 지정해야 함(따로 지정해줘도 되고). 배치 크기를 제외하고 샘플의 크기만 써야 함\n",
    "# keras.layers.InputLayer(input_shape=) 이렇게 할 수도 있음\n",
    "model.add(keras.layers.Flatten(input_shape=[28, 28]))\n",
    "\n",
    "# 뉴런 300개, 뉴런 100개인 Dense 은닉층을 추가\n",
    "# Dense층마다 각자 가중치 행렬을 관리함 -> 이 행렬에는 층의 뉴런과 입력 사이의 모든 연결 가중치가 포함됨\n",
    "# 또한 뉴런마다 하나씩 있는 편향도 벡터로 관리함\n",
    "model.add(keras.layers.Dense(300, activation='relu'))\n",
    "model.add(keras.layers.Dense(100, activation='relu'))\n",
    "\n",
    "# 마지막으로 뉴런 10개짜리 Dense 출력층을 추가함\n",
    "model.add(keras.layers.Dense(10, activation='softmax'))"
   ]
  },
  {
   "cell_type": "code",
   "execution_count": 24,
   "id": "b42a4a9a",
   "metadata": {},
   "outputs": [],
   "source": [
    "keras.backend.clear_session()\n",
    "np.random.seed(42)\n",
    "tf.random.set_seed(42)"
   ]
  },
  {
   "cell_type": "code",
   "execution_count": 25,
   "id": "471d868d",
   "metadata": {},
   "outputs": [],
   "source": [
    "# 위 과정처럼 층을 하나씩 추가하지 않고 Sequential 모델을 만들 때 층의 list를 전달해도 됨\n",
    "model = keras.models.Sequential([\n",
    "    keras.layers.Flatten(input_shape=[28, 28]),\n",
    "    keras.layers.Dense(300, activation=\"relu\"),\n",
    "    keras.layers.Dense(100, activation=\"relu\"),\n",
    "    keras.layers.Dense(10, activation=\"softmax\")\n",
    "])"
   ]
  },
  {
   "cell_type": "markdown",
   "id": "52dc6e94",
   "metadata": {},
   "source": [
    "#### keras.io의 예제 코드 사용하기"
   ]
  },
  {
   "cell_type": "code",
   "execution_count": 26,
   "id": "7ac0533c",
   "metadata": {},
   "outputs": [],
   "source": [
    "from keras.layers import Dense\n",
    "output_layer = Dense(10)"
   ]
  },
  {
   "cell_type": "code",
   "execution_count": 27,
   "id": "d6d748b2",
   "metadata": {},
   "outputs": [],
   "source": [
    "from tensorflow.keras.layers import Dense\n",
    "output_layer = Dense(10)"
   ]
  },
  {
   "cell_type": "code",
   "execution_count": 28,
   "id": "a7efeb09",
   "metadata": {},
   "outputs": [],
   "source": [
    "from tensorflow import keras\n",
    "output_layer = keras.layers.Dense(10)"
   ]
  },
  {
   "cell_type": "code",
   "execution_count": 29,
   "id": "4c490211",
   "metadata": {},
   "outputs": [],
   "source": [
    "from tensorflow.keras import layers\n",
    "output_layers = layers.Dense(10)"
   ]
  },
  {
   "cell_type": "markdown",
   "id": "2a0f90a8",
   "metadata": {},
   "source": [
    "----"
   ]
  },
  {
   "cell_type": "code",
   "execution_count": 30,
   "id": "86b03147",
   "metadata": {},
   "outputs": [
    {
     "name": "stdout",
     "output_type": "stream",
     "text": [
      "Model: \"sequential\"\n",
      "_________________________________________________________________\n",
      " Layer (type)                Output Shape              Param #   \n",
      "=================================================================\n",
      " flatten (Flatten)           (None, 784)               0         \n",
      "                                                                 \n",
      " dense (Dense)               (None, 300)               235500    \n",
      "                                                                 \n",
      " dense_1 (Dense)             (None, 100)               30100     \n",
      "                                                                 \n",
      " dense_2 (Dense)             (None, 10)                1010      \n",
      "                                                                 \n",
      "=================================================================\n",
      "Total params: 266,610\n",
      "Trainable params: 266,610\n",
      "Non-trainable params: 0\n",
      "_________________________________________________________________\n"
     ]
    }
   ],
   "source": [
    "model.summary()\n",
    "\n",
    "# Output Shape의 None: 배치 크기에 어떤 값도 가능하다는 뜻\n",
    "\n",
    "# 235500 = 784 * 300 + 300 -> 파라미터 수 많음 -> 훈련 데이터를 학습하기 충분한 유연성을 가짐 = 과대적합의 위험을 가짐\n",
    "# 784 * 300 = 연결 가중치\n",
    "# 300 = 편향\n",
    "\n",
    "# Trainable params: 훈련되는 파라미터\n",
    "# Non-trainable params: 훈련되지 않는 파라미터"
   ]
  },
  {
   "cell_type": "code",
   "execution_count": 31,
   "id": "e6d62135",
   "metadata": {},
   "outputs": [
    {
     "data": {
      "text/plain": [
       "[<keras.layers.reshaping.flatten.Flatten at 0x2bdd39730>,\n",
       " <keras.layers.core.dense.Dense at 0x2bdd398e0>,\n",
       " <keras.layers.core.dense.Dense at 0x2bdd39a60>,\n",
       " <keras.layers.core.dense.Dense at 0x2bdd39b50>]"
      ]
     },
     "execution_count": 31,
     "metadata": {},
     "output_type": "execute_result"
    }
   ],
   "source": [
    "model.layers"
   ]
  },
  {
   "cell_type": "code",
   "execution_count": 32,
   "id": "a49f9509",
   "metadata": {},
   "outputs": [
    {
     "data": {
      "text/plain": [
       "<keras.layers.reshaping.flatten.Flatten at 0x2bdd39730>"
      ]
     },
     "execution_count": 32,
     "metadata": {},
     "output_type": "execute_result"
    }
   ],
   "source": [
    "model.layers[0]"
   ]
  },
  {
   "cell_type": "code",
   "execution_count": 33,
   "id": "b459625a",
   "metadata": {},
   "outputs": [
    {
     "data": {
      "text/plain": [
       "'dense'"
      ]
     },
     "execution_count": 33,
     "metadata": {},
     "output_type": "execute_result"
    }
   ],
   "source": [
    "hidden1 = model.layers[1] # 인덱스로 층 선택\n",
    "hidden1.name # 층의 이름"
   ]
  },
  {
   "cell_type": "code",
   "execution_count": 34,
   "id": "f236cef1",
   "metadata": {},
   "outputs": [
    {
     "data": {
      "text/plain": [
       "<keras.layers.core.dense.Dense at 0x2bdd398e0>"
      ]
     },
     "execution_count": 34,
     "metadata": {},
     "output_type": "execute_result"
    }
   ],
   "source": [
    "model.get_layer(hidden1.name) # 이름으로 층 선택"
   ]
  },
  {
   "cell_type": "code",
   "execution_count": 35,
   "id": "04e1f7d1",
   "metadata": {},
   "outputs": [
    {
     "data": {
      "text/plain": [
       "True"
      ]
     },
     "execution_count": 35,
     "metadata": {},
     "output_type": "execute_result"
    }
   ],
   "source": [
    "model.get_layer(hidden1.name) is hidden1"
   ]
  },
  {
   "cell_type": "code",
   "execution_count": 36,
   "id": "54285610",
   "metadata": {},
   "outputs": [],
   "source": [
    "weights, biases = hidden1.get_weights() # 층의 모든 파라미터 접근"
   ]
  },
  {
   "cell_type": "code",
   "execution_count": 37,
   "id": "104e33f5",
   "metadata": {},
   "outputs": [
    {
     "data": {
      "text/plain": [
       "array([[ 0.02448617, -0.00877795, -0.02189048, ..., -0.02766046,\n",
       "         0.03859074, -0.06889391],\n",
       "       [ 0.00476504, -0.03105379, -0.0586676 , ...,  0.00602964,\n",
       "        -0.02763776, -0.04165364],\n",
       "       [-0.06189284, -0.06901957,  0.07102345, ..., -0.04238207,\n",
       "         0.07121518, -0.07331658],\n",
       "       ...,\n",
       "       [-0.03048757,  0.02155137, -0.05400612, ..., -0.00113463,\n",
       "         0.00228987,  0.05581069],\n",
       "       [ 0.07061854, -0.06960931,  0.07038955, ..., -0.00384101,\n",
       "         0.00034875,  0.02878492],\n",
       "       [-0.06022581,  0.01577859, -0.02585464, ..., -0.00527829,\n",
       "         0.00272203, -0.06793761]], dtype=float32)"
      ]
     },
     "execution_count": 37,
     "metadata": {},
     "output_type": "execute_result"
    }
   ],
   "source": [
    "weights"
   ]
  },
  {
   "cell_type": "code",
   "execution_count": 38,
   "id": "9a2b5620",
   "metadata": {},
   "outputs": [
    {
     "data": {
      "text/plain": [
       "(784, 300)"
      ]
     },
     "execution_count": 38,
     "metadata": {},
     "output_type": "execute_result"
    }
   ],
   "source": [
    "weights.shape"
   ]
  },
  {
   "cell_type": "code",
   "execution_count": 39,
   "id": "e8e430b7",
   "metadata": {
    "scrolled": true
   },
   "outputs": [
    {
     "data": {
      "text/plain": [
       "array([0., 0., 0., 0., 0., 0., 0., 0., 0., 0., 0., 0., 0., 0., 0., 0., 0.,\n",
       "       0., 0., 0., 0., 0., 0., 0., 0., 0., 0., 0., 0., 0., 0., 0., 0., 0.,\n",
       "       0., 0., 0., 0., 0., 0., 0., 0., 0., 0., 0., 0., 0., 0., 0., 0., 0.,\n",
       "       0., 0., 0., 0., 0., 0., 0., 0., 0., 0., 0., 0., 0., 0., 0., 0., 0.,\n",
       "       0., 0., 0., 0., 0., 0., 0., 0., 0., 0., 0., 0., 0., 0., 0., 0., 0.,\n",
       "       0., 0., 0., 0., 0., 0., 0., 0., 0., 0., 0., 0., 0., 0., 0., 0., 0.,\n",
       "       0., 0., 0., 0., 0., 0., 0., 0., 0., 0., 0., 0., 0., 0., 0., 0., 0.,\n",
       "       0., 0., 0., 0., 0., 0., 0., 0., 0., 0., 0., 0., 0., 0., 0., 0., 0.,\n",
       "       0., 0., 0., 0., 0., 0., 0., 0., 0., 0., 0., 0., 0., 0., 0., 0., 0.,\n",
       "       0., 0., 0., 0., 0., 0., 0., 0., 0., 0., 0., 0., 0., 0., 0., 0., 0.,\n",
       "       0., 0., 0., 0., 0., 0., 0., 0., 0., 0., 0., 0., 0., 0., 0., 0., 0.,\n",
       "       0., 0., 0., 0., 0., 0., 0., 0., 0., 0., 0., 0., 0., 0., 0., 0., 0.,\n",
       "       0., 0., 0., 0., 0., 0., 0., 0., 0., 0., 0., 0., 0., 0., 0., 0., 0.,\n",
       "       0., 0., 0., 0., 0., 0., 0., 0., 0., 0., 0., 0., 0., 0., 0., 0., 0.,\n",
       "       0., 0., 0., 0., 0., 0., 0., 0., 0., 0., 0., 0., 0., 0., 0., 0., 0.,\n",
       "       0., 0., 0., 0., 0., 0., 0., 0., 0., 0., 0., 0., 0., 0., 0., 0., 0.,\n",
       "       0., 0., 0., 0., 0., 0., 0., 0., 0., 0., 0., 0., 0., 0., 0., 0., 0.,\n",
       "       0., 0., 0., 0., 0., 0., 0., 0., 0., 0., 0.], dtype=float32)"
      ]
     },
     "execution_count": 39,
     "metadata": {},
     "output_type": "execute_result"
    }
   ],
   "source": [
    "biases"
   ]
  },
  {
   "cell_type": "code",
   "execution_count": 40,
   "id": "90150313",
   "metadata": {},
   "outputs": [
    {
     "data": {
      "text/plain": [
       "(300,)"
      ]
     },
     "execution_count": 40,
     "metadata": {},
     "output_type": "execute_result"
    }
   ],
   "source": [
    "biases.shape"
   ]
  },
  {
   "cell_type": "markdown",
   "id": "68e8a00a",
   "metadata": {},
   "source": [
    "위 hidden1의 weights와 biases -> 대칭성을 깨기 위해 weights는 무작위로 초기화됨. biases는 0으로 초기화됨\n",
    "\n",
    "다른 초기화 방법을 사용하고 싶다면 층을 만들 때 kernel_initializer(연결 가중치 행렬의 다른 이름이 커널)와 bias_initializer 매개변수를 설정하면 됨"
   ]
  },
  {
   "cell_type": "markdown",
   "id": "ff69bd93",
   "metadata": {},
   "source": [
    "#### 모델 컴파일\n",
    "\n",
    "모델을 만들고 나서 complile() 메서드를 호출하여 사용할 손실 함수와 옵티마이저를 지정해야 함\n",
    "\n",
    "> 옵티마이저: 일반적으로는 Optimizer라고 합니다. 뉴럴넷의 가중치를 업데이트하는 알고리즘이라고 생각하시면 이해가 간편하실 것 같습니다. 가중치를 업데이트하는 방법은 경사하강법에서 생기는 여러가지 단점을 극복하기 위해 다양한 알고리즘이 제안되었습니다.\n",
    "\n",
    "![](./images/optimizer.png)\n",
    "\n",
    "참고: https://wikidocs.net/152765"
   ]
  },
  {
   "cell_type": "code",
   "execution_count": 41,
   "id": "9aae52aa",
   "metadata": {},
   "outputs": [],
   "source": [
    "model.compile(loss='sparse_categorical_crossentropy', # loss=keras.losses.sparse_categorical_crossentropy와 동일\n",
    "             optimizer='sgd', # optimizer=keras.optimizers.SGD()와 동일\n",
    "             metrics=['accuracy']) # metrics=[keras.metrics.sparse_categorical_accuracy]와 동일"
   ]
  },
  {
   "cell_type": "markdown",
   "id": "49fefa62",
   "metadata": {},
   "source": [
    "- sparse categorical cross entropy: 레이블이 정수 하나로 이루어져 있고 클래스가 배타적일 때 사용\n",
    "- categorical cross entropy: 샘플마다 클래스 별 타깃 확률을 가지고 있을 때 사용\n",
    "- binary cross entropy: 이진 분류나 다중 레이블 이진 분류일 때 사용(출력층에 softmax 대신 sigmoid 사용)\n",
    "\n",
    "---\n",
    "\n",
    "- sgd optimizer를 사용할 땐 학습률을 튜닝하는 것이 중요함 -> optimizer=keras.optimizers.SGD(lr=???) -> 기본값: lr=0.01"
   ]
  },
  {
   "cell_type": "code",
   "execution_count": 42,
   "id": "357aed70",
   "metadata": {
    "scrolled": true
   },
   "outputs": [
    {
     "name": "stdout",
     "output_type": "stream",
     "text": [
      "Epoch 1/30\n"
     ]
    },
    {
     "name": "stderr",
     "output_type": "stream",
     "text": [
      "2022-08-25 13:18:00.244155: W tensorflow/core/platform/profile_utils/cpu_utils.cc:128] Failed to get CPU frequency: 0 Hz\n"
     ]
    },
    {
     "name": "stdout",
     "output_type": "stream",
     "text": [
      "   9/1719 [..............................] - ETA: 10s - loss: 2.3380 - accuracy: 0.1979 "
     ]
    },
    {
     "name": "stderr",
     "output_type": "stream",
     "text": [
      "2022-08-25 13:18:00.455216: I tensorflow/core/grappler/optimizers/custom_graph_optimizer_registry.cc:113] Plugin optimizer for device_type GPU is enabled.\n"
     ]
    },
    {
     "name": "stdout",
     "output_type": "stream",
     "text": [
      "1719/1719 [==============================] - ETA: 0s - loss: 0.7236 - accuracy: 0.7647"
     ]
    },
    {
     "name": "stderr",
     "output_type": "stream",
     "text": [
      "2022-08-25 13:18:10.333102: I tensorflow/core/grappler/optimizers/custom_graph_optimizer_registry.cc:113] Plugin optimizer for device_type GPU is enabled.\n"
     ]
    },
    {
     "name": "stdout",
     "output_type": "stream",
     "text": [
      "1719/1719 [==============================] - 11s 6ms/step - loss: 0.7236 - accuracy: 0.7647 - val_loss: 0.5201 - val_accuracy: 0.8230\n",
      "Epoch 2/30\n",
      "1719/1719 [==============================] - 10s 6ms/step - loss: 0.4841 - accuracy: 0.8319 - val_loss: 0.4353 - val_accuracy: 0.8516\n",
      "Epoch 3/30\n",
      "1719/1719 [==============================] - 10s 6ms/step - loss: 0.4390 - accuracy: 0.8459 - val_loss: 0.5353 - val_accuracy: 0.7980\n",
      "Epoch 4/30\n",
      "1719/1719 [==============================] - 10s 6ms/step - loss: 0.4121 - accuracy: 0.8564 - val_loss: 0.3921 - val_accuracy: 0.8646\n",
      "Epoch 5/30\n",
      "1719/1719 [==============================] - 10s 6ms/step - loss: 0.3936 - accuracy: 0.8620 - val_loss: 0.3748 - val_accuracy: 0.8680\n",
      "Epoch 6/30\n",
      "1719/1719 [==============================] - 10s 6ms/step - loss: 0.3748 - accuracy: 0.8679 - val_loss: 0.3710 - val_accuracy: 0.8720\n",
      "Epoch 7/30\n",
      "1719/1719 [==============================] - 10s 6ms/step - loss: 0.3630 - accuracy: 0.8713 - val_loss: 0.3632 - val_accuracy: 0.8712\n",
      "Epoch 8/30\n",
      "1719/1719 [==============================] - 10s 6ms/step - loss: 0.3516 - accuracy: 0.8751 - val_loss: 0.3849 - val_accuracy: 0.8620\n",
      "Epoch 9/30\n",
      "1719/1719 [==============================] - 10s 6ms/step - loss: 0.3412 - accuracy: 0.8788 - val_loss: 0.3610 - val_accuracy: 0.8690\n",
      "Epoch 10/30\n",
      "1719/1719 [==============================] - 10s 6ms/step - loss: 0.3319 - accuracy: 0.8823 - val_loss: 0.3428 - val_accuracy: 0.8780\n",
      "Epoch 11/30\n",
      "1719/1719 [==============================] - 10s 6ms/step - loss: 0.3240 - accuracy: 0.8834 - val_loss: 0.3443 - val_accuracy: 0.8786\n",
      "Epoch 12/30\n",
      "1719/1719 [==============================] - 10s 6ms/step - loss: 0.3146 - accuracy: 0.8867 - val_loss: 0.3318 - val_accuracy: 0.8822\n",
      "Epoch 13/30\n",
      "1719/1719 [==============================] - 10s 6ms/step - loss: 0.3079 - accuracy: 0.8890 - val_loss: 0.3272 - val_accuracy: 0.8884\n",
      "Epoch 14/30\n",
      "1719/1719 [==============================] - 10s 6ms/step - loss: 0.3019 - accuracy: 0.8915 - val_loss: 0.3383 - val_accuracy: 0.8786\n",
      "Epoch 15/30\n",
      "1719/1719 [==============================] - 10s 6ms/step - loss: 0.2944 - accuracy: 0.8937 - val_loss: 0.3235 - val_accuracy: 0.8848\n",
      "Epoch 16/30\n",
      "1719/1719 [==============================] - 10s 6ms/step - loss: 0.2890 - accuracy: 0.8967 - val_loss: 0.3084 - val_accuracy: 0.8894\n",
      "Epoch 17/30\n",
      "1719/1719 [==============================] - 11s 6ms/step - loss: 0.2836 - accuracy: 0.8980 - val_loss: 0.3577 - val_accuracy: 0.8734\n",
      "Epoch 18/30\n",
      "1719/1719 [==============================] - 10s 6ms/step - loss: 0.2774 - accuracy: 0.9007 - val_loss: 0.3133 - val_accuracy: 0.8906\n",
      "Epoch 19/30\n",
      "1719/1719 [==============================] - 10s 6ms/step - loss: 0.2727 - accuracy: 0.9021 - val_loss: 0.3135 - val_accuracy: 0.8888\n",
      "Epoch 20/30\n",
      "1719/1719 [==============================] - 10s 6ms/step - loss: 0.2670 - accuracy: 0.9036 - val_loss: 0.3269 - val_accuracy: 0.8826\n",
      "Epoch 21/30\n",
      "1719/1719 [==============================] - 10s 6ms/step - loss: 0.2624 - accuracy: 0.9055 - val_loss: 0.3065 - val_accuracy: 0.8914\n",
      "Epoch 22/30\n",
      "1719/1719 [==============================] - 10s 6ms/step - loss: 0.2574 - accuracy: 0.9070 - val_loss: 0.2953 - val_accuracy: 0.8982\n",
      "Epoch 23/30\n",
      "1719/1719 [==============================] - 10s 6ms/step - loss: 0.2534 - accuracy: 0.9087 - val_loss: 0.2977 - val_accuracy: 0.8944\n",
      "Epoch 24/30\n",
      "1719/1719 [==============================] - 10s 6ms/step - loss: 0.2485 - accuracy: 0.9099 - val_loss: 0.3073 - val_accuracy: 0.8890\n",
      "Epoch 25/30\n",
      "1719/1719 [==============================] - 11s 6ms/step - loss: 0.2440 - accuracy: 0.9123 - val_loss: 0.2973 - val_accuracy: 0.8944\n",
      "Epoch 26/30\n",
      "1719/1719 [==============================] - 11s 6ms/step - loss: 0.2406 - accuracy: 0.9133 - val_loss: 0.3069 - val_accuracy: 0.8896\n",
      "Epoch 27/30\n",
      "1719/1719 [==============================] - 10s 6ms/step - loss: 0.2362 - accuracy: 0.9155 - val_loss: 0.3031 - val_accuracy: 0.8936\n",
      "Epoch 28/30\n",
      "1719/1719 [==============================] - 10s 6ms/step - loss: 0.2327 - accuracy: 0.9160 - val_loss: 0.3003 - val_accuracy: 0.8932\n",
      "Epoch 29/30\n",
      "1719/1719 [==============================] - 11s 6ms/step - loss: 0.2282 - accuracy: 0.9179 - val_loss: 0.3029 - val_accuracy: 0.8914\n",
      "Epoch 30/30\n",
      "1719/1719 [==============================] - 10s 6ms/step - loss: 0.2250 - accuracy: 0.9191 - val_loss: 0.3040 - val_accuracy: 0.8924\n"
     ]
    }
   ],
   "source": [
    "# 모델 훈련\n",
    "\n",
    "history = model.fit(X_train, y_train, epochs=30,\n",
    "                    validation_data=(X_valid, y_valid)) # validation_data=0.1처럼 비율을 지정할 수도 있음"
   ]
  },
  {
   "cell_type": "markdown",
   "id": "2a4e63eb",
   "metadata": {},
   "source": [
    "#### 위 결과에서 알 수 있는 것\n",
    "\n",
    "모델 훈련을 위해 fit() 메서드를 사용 -> 입력 특성(X_train), 타깃 클래스(y_train), 훈련할 에포크 횟수(기본값은 1)를 전달함\n",
    "\n",
    "추가로 검증 셋도 전달했음(이건 선택 사항임) -> 케라스는 에포크가 끝날 때마다 검증 셋을 사용해 손실(val_loss)과 추가적인 측정 지표(val_accuracy)를 계산함\n",
    "\n",
    "만약 accuracy(훈련 셋 성능) >> val_accuracy(검증 셋 성능): 훈련 셋에 과대적합 되었구나(또는 버그가 있구나)라고 알 수 있겠지\n",
    "\n",
    "하지만 위 결과에서는 큰 차이가 없음 -> 과대적합이 아닌 것 같음"
   ]
  },
  {
   "cell_type": "markdown",
   "id": "d358a518",
   "metadata": {},
   "source": [
    "---\n",
    "훈련 세트의 편중(어떤 클래스는 많이 등장하고 어떤 클래스는 적게 등장)되어 있다면 -> fit() 메서드 호출 시 class_weight 매개변수를 지정하는 것이 좋음 -> 적게 등장하는 클래스는 높은 가중치를 부여하고 많이 등장하는 클래스는 낮은 가중치를 부여함\n",
    "\n",
    "샘플별로 가중치를 부여하고 싶다면 sample_weight 매개변수를 지정함\n",
    "\n",
    "둘 다 지정되면 케라스는 두 값을 곱하여 사용함"
   ]
  },
  {
   "cell_type": "code",
   "execution_count": 43,
   "id": "8fee3bdf",
   "metadata": {},
   "outputs": [
    {
     "data": {
      "text/plain": [
       "{'verbose': 1, 'epochs': 30, 'steps': 1719}"
      ]
     },
     "execution_count": 43,
     "metadata": {},
     "output_type": "execute_result"
    }
   ],
   "source": [
    "history.params"
   ]
  },
  {
   "cell_type": "code",
   "execution_count": 72,
   "id": "87cf3437",
   "metadata": {},
   "outputs": [
    {
     "name": "stdout",
     "output_type": "stream",
     "text": [
      "[0, 1, 2, 3, 4, 5, 6, 7, 8, 9, 10, 11, 12, 13, 14, 15, 16, 17, 18, 19]\n"
     ]
    }
   ],
   "source": [
    "print(history.epoch)"
   ]
  },
  {
   "cell_type": "code",
   "execution_count": 45,
   "id": "068218c3",
   "metadata": {},
   "outputs": [
    {
     "data": {
      "text/plain": [
       "{'loss': [0.7236449122428894,\n",
       "  0.484108567237854,\n",
       "  0.4389530420303345,\n",
       "  0.4121241867542267,\n",
       "  0.3936093747615814,\n",
       "  0.37482479214668274,\n",
       "  0.3629542589187622,\n",
       "  0.351607084274292,\n",
       "  0.3412340581417084,\n",
       "  0.33190688490867615,\n",
       "  0.32399505376815796,\n",
       "  0.3146167993545532,\n",
       "  0.307855486869812,\n",
       "  0.30190348625183105,\n",
       "  0.2944185733795166,\n",
       "  0.2889879047870636,\n",
       "  0.28364285826683044,\n",
       "  0.27740582823753357,\n",
       "  0.272667795419693,\n",
       "  0.2669990658760071,\n",
       "  0.26238125562667847,\n",
       "  0.2573927938938141,\n",
       "  0.2533816695213318,\n",
       "  0.2484557181596756,\n",
       "  0.24401681125164032,\n",
       "  0.2406187206506729,\n",
       "  0.2361971139907837,\n",
       "  0.23267200589179993,\n",
       "  0.22820401191711426,\n",
       "  0.22504089772701263],\n",
       " 'accuracy': [0.7646545171737671,\n",
       "  0.8318727016448975,\n",
       "  0.8458545207977295,\n",
       "  0.8564181327819824,\n",
       "  0.8619999885559082,\n",
       "  0.8678727149963379,\n",
       "  0.8712545037269592,\n",
       "  0.8750545382499695,\n",
       "  0.8787636160850525,\n",
       "  0.8823272585868835,\n",
       "  0.8833999633789062,\n",
       "  0.8867454528808594,\n",
       "  0.8890363574028015,\n",
       "  0.8914908766746521,\n",
       "  0.8936727046966553,\n",
       "  0.8966545462608337,\n",
       "  0.8980000019073486,\n",
       "  0.9006727337837219,\n",
       "  0.9020545482635498,\n",
       "  0.9035999774932861,\n",
       "  0.9054908752441406,\n",
       "  0.9070000052452087,\n",
       "  0.908690869808197,\n",
       "  0.9099090695381165,\n",
       "  0.912327229976654,\n",
       "  0.9133090972900391,\n",
       "  0.9155272245407104,\n",
       "  0.9159999489784241,\n",
       "  0.9178545475006104,\n",
       "  0.9190545082092285],\n",
       " 'val_loss': [0.5201036930084229,\n",
       "  0.43529045581817627,\n",
       "  0.5353163480758667,\n",
       "  0.3920697271823883,\n",
       "  0.3748471140861511,\n",
       "  0.37095752358436584,\n",
       "  0.36322715878486633,\n",
       "  0.38486093282699585,\n",
       "  0.36101096868515015,\n",
       "  0.34281834959983826,\n",
       "  0.3442881405353546,\n",
       "  0.3318268060684204,\n",
       "  0.3272447884082794,\n",
       "  0.33828359842300415,\n",
       "  0.3234924077987671,\n",
       "  0.30840981006622314,\n",
       "  0.35772448778152466,\n",
       "  0.31334978342056274,\n",
       "  0.31348299980163574,\n",
       "  0.3268927037715912,\n",
       "  0.3064810335636139,\n",
       "  0.29530978202819824,\n",
       "  0.29772648215293884,\n",
       "  0.3072632849216461,\n",
       "  0.29727599024772644,\n",
       "  0.3068510591983795,\n",
       "  0.3030557930469513,\n",
       "  0.30027732253074646,\n",
       "  0.30292558670043945,\n",
       "  0.30396804213523865],\n",
       " 'val_accuracy': [0.8230000138282776,\n",
       "  0.8516000509262085,\n",
       "  0.7980000376701355,\n",
       "  0.8646000623703003,\n",
       "  0.8680000305175781,\n",
       "  0.8720000386238098,\n",
       "  0.8712000250816345,\n",
       "  0.862000048160553,\n",
       "  0.8690000176429749,\n",
       "  0.878000020980835,\n",
       "  0.8786000609397888,\n",
       "  0.8822000622749329,\n",
       "  0.8884000182151794,\n",
       "  0.8786000609397888,\n",
       "  0.8848000168800354,\n",
       "  0.889400064945221,\n",
       "  0.8734000325202942,\n",
       "  0.8906000256538391,\n",
       "  0.8888000249862671,\n",
       "  0.8826000690460205,\n",
       "  0.8914000391960144,\n",
       "  0.8982000350952148,\n",
       "  0.8944000601768494,\n",
       "  0.8890000581741333,\n",
       "  0.8944000601768494,\n",
       "  0.8896000385284424,\n",
       "  0.8936000466346741,\n",
       "  0.8932000398635864,\n",
       "  0.8914000391960144,\n",
       "  0.8924000263214111]}"
      ]
     },
     "execution_count": 45,
     "metadata": {},
     "output_type": "execute_result"
    }
   ],
   "source": [
    "history.history"
   ]
  },
  {
   "cell_type": "code",
   "execution_count": 46,
   "id": "38d6211c",
   "metadata": {},
   "outputs": [
    {
     "data": {
      "text/plain": [
       "dict_keys(['loss', 'accuracy', 'val_loss', 'val_accuracy'])"
      ]
     },
     "execution_count": 46,
     "metadata": {},
     "output_type": "execute_result"
    }
   ],
   "source": [
    "history.history.keys()"
   ]
  },
  {
   "cell_type": "code",
   "execution_count": 47,
   "id": "f24341ce",
   "metadata": {},
   "outputs": [
    {
     "name": "stdout",
     "output_type": "stream",
     "text": [
      "Saving figure keras_learning_curves_plot\n"
     ]
    },
    {
     "data": {
      "image/png": "[encoded data removed]",
      "text/plain": [
       "<Figure size 576x360 with 1 Axes>"
      ]
     },
     "metadata": {
      "needs_background": "light"
     },
     "output_type": "display_data"
    }
   ],
   "source": [
    "import pandas as pd\n",
    "\n",
    "pd.DataFrame(history.history).plot(figsize=(8, 5))\n",
    "plt.grid(True)\n",
    "plt.gca().set_ylim(0, 1)\n",
    "save_fig(\"keras_learning_curves_plot\")\n",
    "plt.show()\n",
    "\n",
    "# 학습 곡선(keras learning curves)\n",
    "# accuracy와 val_accuracy가 가까움 -> 과대적합되지 않았구나\n",
    "\n",
    "# 훈련 초기에는 훈련 셋에서보다  검증 셋에서 성능이 더 좋네?\n",
    "# 아님!! -> 검증 손실은 에포크가 끝난 후에 계산됨 / 훈련 손실은 에포크가 진행되는 동안 계산됨\n",
    "# 따라서 훈련 곡선은 에포크의 절반만큼 왼쪽으로 이동해야 함"
   ]
  },
  {
   "cell_type": "markdown",
   "id": "c55cedf0",
   "metadata": {},
   "source": [
    "- 일반적으로 충분히 오래 훈련하면 훈련 셋의 성능이 검증 셋의 성능을 앞지름\n",
    "- 검증 손실이 여전히 감소한다면 모델이 아직 완전히 수렴되지 않았다고 볼 수 있음 -> 아마 훈련을 계속 해야 할 것임 -> fit()을 다시 호출하면 중지되었던 곳에서부터 훈련을 이어갈 수 있음\n",
    "\n",
    "---\n",
    "\n",
    "#### 모델 성능이 만족스럽지 않다면? -> 처음으로 돌아가서 하이퍼파라미터 튜닝하기\n",
    "1. 맨 처음 확인할 것은 학습률\n",
    "2. 학습률이 도움이 되지 않으면 다른 옵티마이저를 테스트해보기\n",
    "3. 층 개수, 층에 있는 뉴런 개수, 은닉층이 사용하는 활성화 함수 튜닝\n",
    "4. 배치 크기 등\n",
    "\n",
    "---\n",
    "\n",
    "#### 모델 성능이 만족스럽다면?\n",
    "모델을 상용 환경으로 배포하기 전에 테스트 셋으로 모델을 평가하여 일반화 오차를 추정해야 함 -> evaluate() 메서드 사용"
   ]
  },
  {
   "cell_type": "code",
   "execution_count": 48,
   "id": "5473ea61",
   "metadata": {
    "scrolled": true
   },
   "outputs": [
    {
     "name": "stdout",
     "output_type": "stream",
     "text": [
      "313/313 [==============================] - 1s 5ms/step - loss: 0.3370 - accuracy: 0.8816\n"
     ]
    },
    {
     "data": {
      "text/plain": [
       "[0.33699700236320496, 0.881600022315979]"
      ]
     },
     "execution_count": 48,
     "metadata": {},
     "output_type": "execute_result"
    }
   ],
   "source": [
    "model.evaluate(X_test, y_test) # 이 결과가 안좋다고 하이퍼파라미터 튜닝하면 절대 안됨!!"
   ]
  },
  {
   "cell_type": "markdown",
   "id": "7a1d0557",
   "metadata": {},
   "source": [
    "#### 모델을 사용해 예측을 만들기\n",
    "\n",
    "새로운 샘플에 대해 예측을 만들기 -> 모델의 predict() 메서드 사용\n",
    "\n",
    "지금은 새로운 샘플이 없기 때문에 테스트 셋에서 3개 가져와서 사용해보자"
   ]
  },
  {
   "cell_type": "code",
   "execution_count": 49,
   "id": "9d7de80b",
   "metadata": {},
   "outputs": [
    {
     "name": "stdout",
     "output_type": "stream",
     "text": [
      "1/1 [==============================] - 0s 90ms/step\n"
     ]
    },
    {
     "name": "stderr",
     "output_type": "stream",
     "text": [
      "2022-08-25 13:23:08.211138: I tensorflow/core/grappler/optimizers/custom_graph_optimizer_registry.cc:113] Plugin optimizer for device_type GPU is enabled.\n"
     ]
    },
    {
     "data": {
      "text/plain": [
       "array([[0.  , 0.  , 0.  , 0.  , 0.  , 0.01, 0.  , 0.02, 0.  , 0.96],\n",
       "       [0.  , 0.  , 0.99, 0.  , 0.01, 0.  , 0.  , 0.  , 0.  , 0.  ],\n",
       "       [0.  , 1.  , 0.  , 0.  , 0.  , 0.  , 0.  , 0.  , 0.  , 0.  ]],\n",
       "      dtype=float32)"
      ]
     },
     "execution_count": 49,
     "metadata": {},
     "output_type": "execute_result"
    }
   ],
   "source": [
    "X_new = X_test[:3]\n",
    "y_proba = model.predict(X_new)\n",
    "y_proba.round(2)"
   ]
  },
  {
   "cell_type": "code",
   "execution_count": 50,
   "id": "859616f9",
   "metadata": {},
   "outputs": [
    {
     "name": "stdout",
     "output_type": "stream",
     "text": [
      "1/1 [==============================] - 0s 13ms/step\n"
     ]
    },
    {
     "data": {
      "text/plain": [
       "array([9, 2, 1])"
      ]
     },
     "execution_count": 50,
     "metadata": {},
     "output_type": "execute_result"
    }
   ],
   "source": [
    "y_pred = np.argmax(model.predict(X_new), axis=-1) # 가장 높은 확률을 가진 클래스만 고르기\n",
    "y_pred"
   ]
  },
  {
   "cell_type": "code",
   "execution_count": 51,
   "id": "e6051dc5",
   "metadata": {},
   "outputs": [
    {
     "data": {
      "text/plain": [
       "array(['Ankle boot', 'Pullover', 'Trouser'], dtype='<U11')"
      ]
     },
     "execution_count": 51,
     "metadata": {},
     "output_type": "execute_result"
    }
   ],
   "source": [
    "np.array(class_names)[y_pred]"
   ]
  },
  {
   "cell_type": "code",
   "execution_count": 52,
   "id": "20cf9ecc",
   "metadata": {},
   "outputs": [
    {
     "data": {
      "text/plain": [
       "array([9, 2, 1], dtype=uint8)"
      ]
     },
     "execution_count": 52,
     "metadata": {},
     "output_type": "execute_result"
    }
   ],
   "source": [
    "y_new = y_test[:3]\n",
    "y_new"
   ]
  },
  {
   "cell_type": "code",
   "execution_count": 53,
   "id": "1b8f7048",
   "metadata": {},
   "outputs": [
    {
     "data": {
      "text/plain": [
       "array([ True,  True,  True])"
      ]
     },
     "execution_count": 53,
     "metadata": {},
     "output_type": "execute_result"
    }
   ],
   "source": [
    "y_pred == y_new # 세 개의 이미지 모두 올바르게 분류함"
   ]
  },
  {
   "cell_type": "code",
   "execution_count": 54,
   "id": "11b4c117",
   "metadata": {},
   "outputs": [
    {
     "name": "stdout",
     "output_type": "stream",
     "text": [
      "Saving figure fashion_mnist_images_plot\n"
     ]
    },
    {
     "data": {
      "image/png": "[encoded data removed]",
      "text/plain": [
       "<Figure size 518.4x172.8 with 3 Axes>"
      ]
     },
     "metadata": {
      "needs_background": "light"
     },
     "output_type": "display_data"
    }
   ],
   "source": [
    "plt.figure(figsize=(7.2, 2.4))\n",
    "for index, image in enumerate(X_new):\n",
    "    plt.subplot(1, 3, index + 1)\n",
    "    plt.imshow(image, cmap=\"binary\", interpolation=\"nearest\")\n",
    "    plt.axis('off')\n",
    "    plt.title(class_names[y_test[index]], fontsize=12)\n",
    "plt.subplots_adjust(wspace=0.2, hspace=0.5)\n",
    "save_fig('fashion_mnist_images_plot', tight_layout=False)\n",
    "plt.show()"
   ]
  },
  {
   "cell_type": "markdown",
   "id": "13b7368e",
   "metadata": {},
   "source": [
    "### 10.2.3 시퀀셜 API를 사용하여 회귀용 다층 퍼셉트론 만들기"
   ]
  },
  {
   "cell_type": "code",
   "execution_count": 55,
   "id": "65079389",
   "metadata": {},
   "outputs": [],
   "source": [
    "# 데이터 load, split, scaling하기\n",
    "\n",
    "from sklearn.datasets import fetch_california_housing\n",
    "from sklearn.model_selection import train_test_split\n",
    "from sklearn.preprocessing import StandardScaler\n",
    "\n",
    "housing = fetch_california_housing()\n",
    "\n",
    "X_train_full, X_test, y_train_full, y_test = train_test_split(housing.data, housing.target, random_state=42)\n",
    "X_train, X_valid, y_train, y_valid = train_test_split(X_train_full, y_train_full, random_state=42)\n",
    "\n",
    "scaler = StandardScaler()\n",
    "X_train = scaler.fit_transform(X_train)\n",
    "X_valid = scaler.transform(X_valid)\n",
    "X_test = scaler.transform(X_test)"
   ]
  },
  {
   "cell_type": "code",
   "execution_count": 56,
   "id": "157d6d5a",
   "metadata": {},
   "outputs": [],
   "source": [
    "np.random.seed(42)\n",
    "tf.random.set_seed(42)"
   ]
  },
  {
   "cell_type": "markdown",
   "id": "f8eab282",
   "metadata": {},
   "source": [
    "회귀용 MLP를 구축, 훈련, 평가, 예측하는 방법은 분류와 비슷\n",
    "\n",
    "#### 분류와의 차이점\n",
    "- 회귀는 출력층이 활성화 함수가 없는 하나의 뉴런을 가짐(하나의 값을 예측하기 때문)\n",
    "- 손실 함수로 평균 제곱 오차를 사용"
   ]
  },
  {
   "cell_type": "code",
   "execution_count": 57,
   "id": "0a6c0397",
   "metadata": {
    "scrolled": true
   },
   "outputs": [
    {
     "name": "stdout",
     "output_type": "stream",
     "text": [
      "Epoch 1/20\n",
      " 29/363 [=>............................] - ETA: 1s - loss: 3.3408 "
     ]
    },
    {
     "name": "stderr",
     "output_type": "stream",
     "text": [
      "2022-08-25 13:23:08.815114: I tensorflow/core/grappler/optimizers/custom_graph_optimizer_registry.cc:113] Plugin optimizer for device_type GPU is enabled.\n"
     ]
    },
    {
     "name": "stdout",
     "output_type": "stream",
     "text": [
      "359/363 [============================>.] - ETA: 0s - loss: 1.6506"
     ]
    },
    {
     "name": "stderr",
     "output_type": "stream",
     "text": [
      "2022-08-25 13:23:10.232420: I tensorflow/core/grappler/optimizers/custom_graph_optimizer_registry.cc:113] Plugin optimizer for device_type GPU is enabled.\n"
     ]
    },
    {
     "name": "stdout",
     "output_type": "stream",
     "text": [
      "363/363 [==============================] - 2s 5ms/step - loss: 1.6419 - val_loss: 0.8560\n",
      "Epoch 2/20\n",
      "363/363 [==============================] - 2s 4ms/step - loss: 0.7047 - val_loss: 0.6531\n",
      "Epoch 3/20\n",
      "363/363 [==============================] - 2s 4ms/step - loss: 0.6345 - val_loss: 0.6099\n",
      "Epoch 4/20\n",
      "363/363 [==============================] - 2s 4ms/step - loss: 0.5977 - val_loss: 0.5658\n",
      "Epoch 5/20\n",
      "363/363 [==============================] - 2s 4ms/step - loss: 0.5706 - val_loss: 0.5355\n",
      "Epoch 6/20\n",
      "363/363 [==============================] - 2s 4ms/step - loss: 0.5472 - val_loss: 0.5173\n",
      "Epoch 7/20\n",
      "363/363 [==============================] - 2s 4ms/step - loss: 0.5288 - val_loss: 0.5081\n",
      "Epoch 8/20\n",
      "363/363 [==============================] - 2s 4ms/step - loss: 0.5130 - val_loss: 0.4799\n",
      "Epoch 9/20\n",
      "363/363 [==============================] - 1s 4ms/step - loss: 0.4992 - val_loss: 0.4690\n",
      "Epoch 10/20\n",
      "363/363 [==============================] - 2s 4ms/step - loss: 0.4875 - val_loss: 0.4656\n",
      "Epoch 11/20\n",
      "363/363 [==============================] - 2s 4ms/step - loss: 0.4777 - val_loss: 0.4482\n",
      "Epoch 12/20\n",
      "363/363 [==============================] - 2s 4ms/step - loss: 0.4688 - val_loss: 0.4479\n",
      "Epoch 13/20\n",
      "363/363 [==============================] - 2s 4ms/step - loss: 0.4615 - val_loss: 0.4296\n",
      "Epoch 14/20\n",
      "363/363 [==============================] - 2s 5ms/step - loss: 0.4547 - val_loss: 0.4233\n",
      "Epoch 15/20\n",
      "363/363 [==============================] - 2s 4ms/step - loss: 0.4488 - val_loss: 0.4176\n",
      "Epoch 16/20\n",
      "363/363 [==============================] - 2s 5ms/step - loss: 0.4435 - val_loss: 0.4123\n",
      "Epoch 17/20\n",
      "363/363 [==============================] - 2s 4ms/step - loss: 0.4389 - val_loss: 0.4071\n",
      "Epoch 18/20\n",
      "363/363 [==============================] - 2s 4ms/step - loss: 0.4347 - val_loss: 0.4037\n",
      "Epoch 19/20\n",
      "363/363 [==============================] - 2s 4ms/step - loss: 0.4306 - val_loss: 0.4000\n",
      "Epoch 20/20\n",
      "363/363 [==============================] - 2s 4ms/step - loss: 0.4273 - val_loss: 0.3969\n",
      "162/162 [==============================] - 0s 3ms/step - loss: 0.4212\n",
      "1/1 [==============================] - 0s 35ms/step\n"
     ]
    },
    {
     "name": "stderr",
     "output_type": "stream",
     "text": [
      "2022-08-25 13:23:41.292751: I tensorflow/core/grappler/optimizers/custom_graph_optimizer_registry.cc:113] Plugin optimizer for device_type GPU is enabled.\n"
     ]
    }
   ],
   "source": [
    "# 이 데이터에는 노이즈가 많기 때문에 과대적합을 막는 용도로 뉴런 수가 적은 은닉층 하나만 사용\n",
    "\n",
    "model = keras.models.Sequential([\n",
    "    keras.layers.Dense(30, activation='relu', input_shape=X_train.shape[1:]),\n",
    "    keras.layers.Dense(1)\n",
    "])\n",
    "model.compile(loss='mean_squared_error', optimizer=keras.optimizers.SGD(learning_rate=1e-3))\n",
    "history = model.fit(X_train, y_train, epochs=20, validation_data=(X_valid, y_valid))\n",
    "mse_test = model.evaluate(X_test, y_test)\n",
    "X_new = X_test[:3]\n",
    "y_pred = model.predict(X_new)"
   ]
  },
  {
   "cell_type": "code",
   "execution_count": 58,
   "id": "c58c82d8",
   "metadata": {},
   "outputs": [
    {
     "data": {
      "image/png": "[encoded data removed]",
      "text/plain": [
       "<Figure size 432x288 with 1 Axes>"
      ]
     },
     "metadata": {
      "needs_background": "light"
     },
     "output_type": "display_data"
    }
   ],
   "source": [
    "plt.plot(pd.DataFrame(history.history))\n",
    "plt.grid(True)\n",
    "plt.gca().set_ylim(0, 1)\n",
    "plt.show()"
   ]
  },
  {
   "cell_type": "markdown",
   "id": "ddecc6b7",
   "metadata": {},
   "source": [
    "시퀀셜 API는 사용하기 쉬움. 하지만 입력과 출력이 여러 개거나 더 복잡한 네트워크 토폴로지(연결)를 갖는 신경망을 만들어야 할 때가 있음 -> 이를 위해 케라스는 `함수형(functional) API`를 제공함"
   ]
  },
  {
   "cell_type": "markdown",
   "id": "3c54e1f5",
   "metadata": {},
   "source": [
    "### 10.2.4 함수형 API를 사용해 복잡한 모델 만들기\n",
    "\n",
    "순차적이지 않은 신경망의 한 예는 Wide & Deep 신경망 = wide models + deep models = MLP에 `입력 데이터의 일부 또는 전체데이터가 출력층에 바로 연결되는 부분이 추가됨` -> 이 신경망은 깊게 쌓은 층(deep)을 사용한 복잡한 패턴과 짧은 경로(wide)를 사용한 간단한 규칙을 모두 학습할 수 있음\n",
    "\n",
    "일반적인 MLP는 층 전체에 모든 데이터를 통과시킴. 따라서 데이터에 있는 간단한 패턴이 연속된 변환으로 인해 왜곡될 수 있음."
   ]
  },
  {
   "cell_type": "code",
   "execution_count": 59,
   "id": "ae65d1f6",
   "metadata": {},
   "outputs": [],
   "source": [
    "np.random.seed(42)\n",
    "tf.random.set_seed(42)"
   ]
  },
  {
   "cell_type": "code",
   "execution_count": 60,
   "id": "4371ca9c",
   "metadata": {},
   "outputs": [],
   "source": [
    "# Input 객체 생성(input() 함수와 이름이 겹치지 않게 input_으로 만듦)\n",
    "# 이 객체는 shape과 dtype을 포함하여 모델의 입력을 정의함\n",
    "# 한 모델은 여러 개의 입력을 가질 수 있음\n",
    "input_ = keras.layers.Input(shape=X_train.shape[1:])\n",
    "\n",
    "\n",
    "# 이 층은 만들어지자마자 입력과 함께 함수처럼 호출됨 -> 그래서 함수형 API라고 부름\n",
    "# (파이썬에는 객체를 함수처럼 호출하면 실행되는 특수한 __call__() 메서드가 있음\n",
    "# -> __call__() 메서드에서 build() 메서드를 호출하여 층의 가중치를 생성함)\n",
    "# 케라스에 층이 연결될 방법을 알려주었을 뿐 아직 어떤 데이터도 처리하지 않음\n",
    "hidden1 = keras.layers.Dense(30, activation=\"relu\")(input_)\n",
    "\n",
    "\n",
    "# 두 번째 은닉층을 만들고 함수처럼 호출\n",
    "hidden2 = keras.layers.Dense(30, activation=\"relu\")(hidden1)\n",
    "\n",
    "\n",
    "# concat 층은 input_과 연결(짧은 경로겠지)되고 hidden2와도 연결(긴 경로겠지)됨\n",
    "# keras.layers.concatenate() 함수를 사용할 수도 있음\n",
    "concat = keras.layers.concatenate([input_, hidden2]) # concatenate: 연결시키다\n",
    "\n",
    "\n",
    "\n",
    "output = keras.layers.Dense(1)(concat)\n",
    "\n",
    "\n",
    "# 사용할 입력과 출력을 지정하여 모델을 만듦\n",
    "model = keras.models.Model(inputs=[input_], outputs=[output])"
   ]
  },
  {
   "cell_type": "code",
   "execution_count": 61,
   "id": "a72b1b14",
   "metadata": {
    "scrolled": true
   },
   "outputs": [
    {
     "name": "stdout",
     "output_type": "stream",
     "text": [
      "Model: \"model\"\n",
      "__________________________________________________________________________________________________\n",
      " Layer (type)                   Output Shape         Param #     Connected to                     \n",
      "==================================================================================================\n",
      " input_1 (InputLayer)           [(None, 8)]          0           []                               \n",
      "                                                                                                  \n",
      " dense_9 (Dense)                (None, 30)           270         ['input_1[0][0]']                \n",
      "                                                                                                  \n",
      " dense_10 (Dense)               (None, 30)           930         ['dense_9[0][0]']                \n",
      "                                                                                                  \n",
      " concatenate (Concatenate)      (None, 38)           0           ['input_1[0][0]',                \n",
      "                                                                  'dense_10[0][0]']               \n",
      "                                                                                                  \n",
      " dense_11 (Dense)               (None, 1)            39          ['concatenate[0][0]']            \n",
      "                                                                                                  \n",
      "==================================================================================================\n",
      "Total params: 1,239\n",
      "Trainable params: 1,239\n",
      "Non-trainable params: 0\n",
      "__________________________________________________________________________________________________\n"
     ]
    }
   ],
   "source": [
    "model.summary()"
   ]
  },
  {
   "cell_type": "code",
   "execution_count": 62,
   "id": "e93793e2",
   "metadata": {
    "scrolled": true
   },
   "outputs": [
    {
     "name": "stdout",
     "output_type": "stream",
     "text": [
      "Epoch 1/20\n",
      " 26/363 [=>............................] - ETA: 1s - loss: 3.4891 "
     ]
    },
    {
     "name": "stderr",
     "output_type": "stream",
     "text": [
      "2022-08-25 13:23:41.676915: I tensorflow/core/grappler/optimizers/custom_graph_optimizer_registry.cc:113] Plugin optimizer for device_type GPU is enabled.\n"
     ]
    },
    {
     "name": "stdout",
     "output_type": "stream",
     "text": [
      "363/363 [==============================] - ETA: 0s - loss: 1.2611"
     ]
    },
    {
     "name": "stderr",
     "output_type": "stream",
     "text": [
      "2022-08-25 13:23:43.387162: I tensorflow/core/grappler/optimizers/custom_graph_optimizer_registry.cc:113] Plugin optimizer for device_type GPU is enabled.\n"
     ]
    },
    {
     "name": "stdout",
     "output_type": "stream",
     "text": [
      "363/363 [==============================] - 2s 5ms/step - loss: 1.2611 - val_loss: 3.3940\n",
      "Epoch 2/20\n",
      "363/363 [==============================] - 2s 5ms/step - loss: 0.6580 - val_loss: 0.9360\n",
      "Epoch 3/20\n",
      "363/363 [==============================] - 2s 5ms/step - loss: 0.5878 - val_loss: 0.5649\n",
      "Epoch 4/20\n",
      "363/363 [==============================] - 2s 5ms/step - loss: 0.5582 - val_loss: 0.5712\n",
      "Epoch 5/20\n",
      "363/363 [==============================] - 2s 5ms/step - loss: 0.5347 - val_loss: 0.5045\n",
      "Epoch 6/20\n",
      "363/363 [==============================] - 2s 5ms/step - loss: 0.5158 - val_loss: 0.4831\n",
      "Epoch 7/20\n",
      "363/363 [==============================] - 2s 5ms/step - loss: 0.5002 - val_loss: 0.4639\n",
      "Epoch 8/20\n",
      "363/363 [==============================] - 2s 5ms/step - loss: 0.4876 - val_loss: 0.4638\n",
      "Epoch 9/20\n",
      "363/363 [==============================] - 2s 5ms/step - loss: 0.4760 - val_loss: 0.4421\n",
      "Epoch 10/20\n",
      "363/363 [==============================] - 2s 5ms/step - loss: 0.4659 - val_loss: 0.4313\n",
      "Epoch 11/20\n",
      "363/363 [==============================] - 2s 5ms/step - loss: 0.4577 - val_loss: 0.4345\n",
      "Epoch 12/20\n",
      "363/363 [==============================] - 2s 5ms/step - loss: 0.4498 - val_loss: 0.4168\n",
      "Epoch 13/20\n",
      "363/363 [==============================] - 2s 5ms/step - loss: 0.4428 - val_loss: 0.4230\n",
      "Epoch 14/20\n",
      "363/363 [==============================] - 2s 5ms/step - loss: 0.4366 - val_loss: 0.4047\n",
      "Epoch 15/20\n",
      "363/363 [==============================] - 2s 5ms/step - loss: 0.4307 - val_loss: 0.4078\n",
      "Epoch 16/20\n",
      "363/363 [==============================] - 2s 5ms/step - loss: 0.4257 - val_loss: 0.3938\n",
      "Epoch 17/20\n",
      "363/363 [==============================] - 2s 5ms/step - loss: 0.4210 - val_loss: 0.3952\n",
      "Epoch 18/20\n",
      "363/363 [==============================] - 2s 5ms/step - loss: 0.4167 - val_loss: 0.3860\n",
      "Epoch 19/20\n",
      "363/363 [==============================] - 2s 5ms/step - loss: 0.4121 - val_loss: 0.3827\n",
      "Epoch 20/20\n",
      "363/363 [==============================] - 2s 5ms/step - loss: 0.4088 - val_loss: 0.4054\n",
      "162/162 [==============================] - 0s 3ms/step - loss: 0.4032\n",
      "1/1 [==============================] - 0s 44ms/step\n"
     ]
    },
    {
     "name": "stderr",
     "output_type": "stream",
     "text": [
      "2022-08-25 13:24:18.378421: I tensorflow/core/grappler/optimizers/custom_graph_optimizer_registry.cc:113] Plugin optimizer for device_type GPU is enabled.\n"
     ]
    }
   ],
   "source": [
    "model.compile(loss=\"mean_squared_error\", optimizer=keras.optimizers.SGD(learning_rate=1e-3))\n",
    "history = model.fit(X_train, y_train, epochs=20,\n",
    "                    validation_data=(X_valid, y_valid))\n",
    "mse_test = model.evaluate(X_test, y_test)\n",
    "y_pred = model.predict(X_new)"
   ]
  },
  {
   "cell_type": "code",
   "execution_count": 63,
   "id": "7b226da0",
   "metadata": {},
   "outputs": [],
   "source": [
    "# 위 모델에서 5개의 특성(index 0~4)을 짧은 경로로 보내고\n",
    "# 6개의 특성(index 2~7)은 깊은 경로로 보낸다고 가정\n",
    "# 3개의 특성은 양쪽 경로로 감\n",
    "# 이런 경우 여러 입력을 사용하면 됨\n",
    "\n",
    "input_A = keras.layers.Input(shape=[5], name='wide_input')\n",
    "input_B = keras.layers.Input(shape=[6], name='deep_input')\n",
    "hidden1 = keras.layers.Dense(30, activation='relu')(input_B)\n",
    "hidden2 = keras.layers.Dense(30, activation='relu')(hidden1)\n",
    "concat = keras.layers.concatenate([input_A, hidden2])\n",
    "output = keras.layers.Dense(1, name=\"output\")(concat)\n",
    "model = keras.models.Model(inputs=[input_A, input_B], outputs=[output])"
   ]
  },
  {
   "cell_type": "code",
   "execution_count": 64,
   "id": "e85506b5",
   "metadata": {
    "scrolled": true
   },
   "outputs": [
    {
     "name": "stdout",
     "output_type": "stream",
     "text": [
      "Epoch 1/20\n",
      " 23/363 [>.............................] - ETA: 1s - loss: 4.8831 "
     ]
    },
    {
     "name": "stderr",
     "output_type": "stream",
     "text": [
      "2022-08-25 13:24:18.651335: I tensorflow/core/grappler/optimizers/custom_graph_optimizer_registry.cc:113] Plugin optimizer for device_type GPU is enabled.\n"
     ]
    },
    {
     "name": "stdout",
     "output_type": "stream",
     "text": [
      "363/363 [==============================] - ETA: 0s - loss: 1.7643"
     ]
    },
    {
     "name": "stderr",
     "output_type": "stream",
     "text": [
      "2022-08-25 13:24:20.451722: I tensorflow/core/grappler/optimizers/custom_graph_optimizer_registry.cc:113] Plugin optimizer for device_type GPU is enabled.\n"
     ]
    },
    {
     "name": "stdout",
     "output_type": "stream",
     "text": [
      "363/363 [==============================] - 2s 6ms/step - loss: 1.7643 - val_loss: 0.8560\n",
      "Epoch 2/20\n",
      "363/363 [==============================] - 2s 5ms/step - loss: 0.7584 - val_loss: 0.6710\n",
      "Epoch 3/20\n",
      "363/363 [==============================] - 2s 5ms/step - loss: 0.6584 - val_loss: 0.6169\n",
      "Epoch 4/20\n",
      "363/363 [==============================] - 2s 5ms/step - loss: 0.6023 - val_loss: 0.5710\n",
      "Epoch 5/20\n",
      "363/363 [==============================] - 2s 5ms/step - loss: 0.5663 - val_loss: 0.5420\n",
      "Epoch 6/20\n",
      "363/363 [==============================] - 2s 5ms/step - loss: 0.5380 - val_loss: 0.5176\n",
      "Epoch 7/20\n",
      "363/363 [==============================] - 2s 5ms/step - loss: 0.5187 - val_loss: 0.5065\n",
      "Epoch 8/20\n",
      "363/363 [==============================] - 2s 5ms/step - loss: 0.5025 - val_loss: 0.4790\n",
      "Epoch 9/20\n",
      "363/363 [==============================] - 2s 5ms/step - loss: 0.4889 - val_loss: 0.4564\n",
      "Epoch 10/20\n",
      "363/363 [==============================] - 2s 6ms/step - loss: 0.4781 - val_loss: 0.4451\n",
      "Epoch 11/20\n",
      "363/363 [==============================] - 2s 5ms/step - loss: 0.4678 - val_loss: 0.4295\n",
      "Epoch 12/20\n",
      "363/363 [==============================] - 2s 5ms/step - loss: 0.4617 - val_loss: 0.4228\n",
      "Epoch 13/20\n",
      "363/363 [==============================] - 2s 5ms/step - loss: 0.4563 - val_loss: 0.4181\n",
      "Epoch 14/20\n",
      "363/363 [==============================] - 2s 5ms/step - loss: 0.4526 - val_loss: 0.4147\n",
      "Epoch 15/20\n",
      "363/363 [==============================] - 2s 5ms/step - loss: 0.4487 - val_loss: 0.4125\n",
      "Epoch 16/20\n",
      "363/363 [==============================] - 2s 5ms/step - loss: 0.4453 - val_loss: 0.4095\n",
      "Epoch 17/20\n",
      "363/363 [==============================] - 2s 5ms/step - loss: 0.4416 - val_loss: 0.4111\n",
      "Epoch 18/20\n",
      "363/363 [==============================] - 2s 5ms/step - loss: 0.4400 - val_loss: 0.4091\n",
      "Epoch 19/20\n",
      "363/363 [==============================] - 2s 5ms/step - loss: 0.4369 - val_loss: 0.4097\n",
      "Epoch 20/20\n",
      "363/363 [==============================] - 2s 5ms/step - loss: 0.4350 - val_loss: 0.4174\n",
      "162/162 [==============================] - 1s 3ms/step - loss: 0.4295\n",
      "1/1 [==============================] - 0s 44ms/step\n"
     ]
    },
    {
     "name": "stderr",
     "output_type": "stream",
     "text": [
      "2022-08-25 13:24:56.589117: I tensorflow/core/grappler/optimizers/custom_graph_optimizer_registry.cc:113] Plugin optimizer for device_type GPU is enabled.\n"
     ]
    }
   ],
   "source": [
    "model.compile(loss=\"mse\", optimizer=keras.optimizers.SGD(learning_rate=1e-3))\n",
    "\n",
    "X_train_A, X_train_B = X_train[:, :5], X_train[:, 2:]\n",
    "X_valid_A, X_valid_B = X_valid[:, :5], X_valid[:, 2:]\n",
    "X_test_A, X_test_B = X_test[:, :5], X_test[:, 2:]\n",
    "X_new_A, X_new_B = X_test_A[:3], X_test_B[:3]\n",
    "\n",
    "history = model.fit((X_train_A, X_train_B), y_train, epochs=20, # model의 inputs이 두 개니까 튜플로 두 개의 inputs를 전달(딕셔너리로 이름과 함께 전달할 수도 있음)\n",
    "                    validation_data=((X_valid_A, X_valid_B), y_valid)) # validation_data도 마찬가지\n",
    "mse_test = model.evaluate((X_test_A, X_test_B), y_test)\n",
    "y_pred = model.predict((X_new_A, X_new_B))"
   ]
  },
  {
   "cell_type": "markdown",
   "id": "fb97c9b4",
   "metadata": {},
   "source": [
    "#### 여러 개의 출력이 필요한 경우도 많음\n",
    "- 여러 출력이 필요한 작업일 경우\n",
    "    - 예) 그림에 있는 주요 물체를 분류(분류)하고 위치(회귀)를 알아야 할 경우\n",
    "- 동일한 데이터에서 독립적인 여러 작업을 수행할 경우\n",
    "    - 작업마다 새로운 신경망을 훈련할 수 있지만, 하나의 출력을 가진 단일 신경망을 훈련하는 것이 보통 더 나은 결과를 냄\n",
    "    - 왜? 신경망이 여러 작업에 걸쳐 유용한 특성을 학습할 수 있기 때문\n",
    "        - 예) 얼굴 사진으로 다중 작업 분류(한 출력 - 얼굴 표정, 다른 출력 - 안경 유무)\n",
    "- 규제 기법으로 사용하는 경우(과대적합을 줄이고 모델의 일반화 성능을 높이기 위해 훈련에 제약을 가함)\n",
    "    - 예) 신경망 구조 안에 보조 출력을 추가(보조 출력을 사용해 하위 네트워크가 나머지 네트워크에 의존하지 않고 그 자체로 유용한 것을 학습하는 지 확인할 수 있음 = 중간중간 출력을 확인해보기(중간 점검 느낌))"
   ]
  },
  {
   "cell_type": "code",
   "execution_count": 65,
   "id": "8345ad4c",
   "metadata": {},
   "outputs": [],
   "source": [
    "np.random.seed(42)\n",
    "tf.random.set_seed(42)"
   ]
  },
  {
   "cell_type": "code",
   "execution_count": 66,
   "id": "eb9407c3",
   "metadata": {},
   "outputs": [],
   "source": [
    "input_A = keras.layers.Input(shape=[5], name=\"wide_input\")\n",
    "input_B = keras.layers.Input(shape=[6], name=\"deep_input\")\n",
    "hidden1 = keras.layers.Dense(30, activation=\"relu\")(input_B)\n",
    "hidden2 = keras.layers.Dense(30, activation=\"relu\")(hidden1)\n",
    "concat = keras.layers.concatenate([input_A, hidden2])\n",
    "output = keras.layers.Dense(1, name=\"main_output\")(concat)\n",
    "aux_output = keras.layers.Dense(1, name=\"aux_output\")(hidden2) # hidden2에서 보조 출력해보기\n",
    "model = keras.models.Model(inputs=[input_A, input_B],\n",
    "                           outputs=[output, aux_output])"
   ]
  },
  {
   "cell_type": "code",
   "execution_count": 67,
   "id": "554220dc",
   "metadata": {},
   "outputs": [],
   "source": [
    "model.compile(loss=[\"mse\", \"mse\"], loss_weights=[0.9, 0.1], optimizer=keras.optimizers.SGD(learning_rate=1e-3))\n",
    "# 각 출력(메인 출력이든 보조 출력이든)은 자신만의 손실 함수가 필요\n",
    "# 손실 함수 리스트를 전달하면 됨\n",
    "# 케라스는 모든 손실을 더해 최종 손실을 구하고 이를 훈련에 사용함\n",
    "# 따라서 보조 출력보다 주 출력에 더 관심이 많다면 주 출력에 더 많은 가중치를 부여하면 됨"
   ]
  },
  {
   "cell_type": "code",
   "execution_count": 68,
   "id": "e4719fb7",
   "metadata": {
    "scrolled": true
   },
   "outputs": [
    {
     "name": "stdout",
     "output_type": "stream",
     "text": [
      "Epoch 1/20\n",
      "  8/363 [..............................] - ETA: 2s - loss: 6.1189 - main_output_loss: 6.2196 - aux_output_loss: 5.2124  "
     ]
    },
    {
     "name": "stderr",
     "output_type": "stream",
     "text": [
      "2022-08-25 13:24:57.038489: I tensorflow/core/grappler/optimizers/custom_graph_optimizer_registry.cc:113] Plugin optimizer for device_type GPU is enabled.\n"
     ]
    },
    {
     "name": "stdout",
     "output_type": "stream",
     "text": [
      "363/363 [==============================] - ETA: 0s - loss: 2.1365 - main_output_loss: 1.9196 - aux_output_loss: 4.0890"
     ]
    },
    {
     "name": "stderr",
     "output_type": "stream",
     "text": [
      "2022-08-25 13:24:59.671341: I tensorflow/core/grappler/optimizers/custom_graph_optimizer_registry.cc:113] Plugin optimizer for device_type GPU is enabled.\n"
     ]
    },
    {
     "name": "stdout",
     "output_type": "stream",
     "text": [
      "363/363 [==============================] - 3s 8ms/step - loss: 2.1365 - main_output_loss: 1.9196 - aux_output_loss: 4.0890 - val_loss: 1.6233 - val_main_output_loss: 0.8468 - val_aux_output_loss: 8.6117\n",
      "Epoch 2/20\n",
      "363/363 [==============================] - 3s 8ms/step - loss: 0.8905 - main_output_loss: 0.6969 - aux_output_loss: 2.6326 - val_loss: 1.5163 - val_main_output_loss: 0.6836 - val_aux_output_loss: 9.0109\n",
      "Epoch 3/20\n",
      "363/363 [==============================] - 3s 8ms/step - loss: 0.7429 - main_output_loss: 0.6088 - aux_output_loss: 1.9499 - val_loss: 1.4639 - val_main_output_loss: 0.6229 - val_aux_output_loss: 9.0326\n",
      "Epoch 4/20\n",
      "363/363 [==============================] - 3s 8ms/step - loss: 0.6771 - main_output_loss: 0.5691 - aux_output_loss: 1.6485 - val_loss: 1.3388 - val_main_output_loss: 0.5481 - val_aux_output_loss: 8.4552\n",
      "Epoch 5/20\n",
      "363/363 [==============================] - 3s 8ms/step - loss: 0.6381 - main_output_loss: 0.5434 - aux_output_loss: 1.4911 - val_loss: 1.2177 - val_main_output_loss: 0.5194 - val_aux_output_loss: 7.5030\n",
      "Epoch 6/20\n",
      "363/363 [==============================] - 3s 8ms/step - loss: 0.6079 - main_output_loss: 0.5207 - aux_output_loss: 1.3923 - val_loss: 1.0935 - val_main_output_loss: 0.5106 - val_aux_output_loss: 6.3396\n",
      "Epoch 7/20\n",
      "363/363 [==============================] - 3s 8ms/step - loss: 0.5853 - main_output_loss: 0.5040 - aux_output_loss: 1.3175 - val_loss: 0.9918 - val_main_output_loss: 0.5115 - val_aux_output_loss: 5.3151\n",
      "Epoch 8/20\n",
      "363/363 [==============================] - 3s 8ms/step - loss: 0.5666 - main_output_loss: 0.4898 - aux_output_loss: 1.2572 - val_loss: 0.8733 - val_main_output_loss: 0.4733 - val_aux_output_loss: 4.4740\n",
      "Epoch 9/20\n",
      "363/363 [==============================] - 3s 8ms/step - loss: 0.5504 - main_output_loss: 0.4771 - aux_output_loss: 1.2101 - val_loss: 0.7832 - val_main_output_loss: 0.4555 - val_aux_output_loss: 3.7323\n",
      "Epoch 10/20\n",
      "363/363 [==============================] - 3s 8ms/step - loss: 0.5373 - main_output_loss: 0.4671 - aux_output_loss: 1.1695 - val_loss: 0.7170 - val_main_output_loss: 0.4604 - val_aux_output_loss: 3.0262\n",
      "Epoch 11/20\n",
      "363/363 [==============================] - 3s 8ms/step - loss: 0.5266 - main_output_loss: 0.4591 - aux_output_loss: 1.1344 - val_loss: 0.6510 - val_main_output_loss: 0.4293 - val_aux_output_loss: 2.6468\n",
      "Epoch 12/20\n",
      "363/363 [==============================] - 3s 8ms/step - loss: 0.5173 - main_output_loss: 0.4520 - aux_output_loss: 1.1048 - val_loss: 0.6051 - val_main_output_loss: 0.4310 - val_aux_output_loss: 2.1722\n",
      "Epoch 13/20\n",
      "363/363 [==============================] - 3s 8ms/step - loss: 0.5095 - main_output_loss: 0.4465 - aux_output_loss: 1.0765 - val_loss: 0.5644 - val_main_output_loss: 0.4161 - val_aux_output_loss: 1.8992\n",
      "Epoch 14/20\n",
      "363/363 [==============================] - 3s 8ms/step - loss: 0.5027 - main_output_loss: 0.4417 - aux_output_loss: 1.0511 - val_loss: 0.5354 - val_main_output_loss: 0.4119 - val_aux_output_loss: 1.6466\n",
      "Epoch 15/20\n",
      "363/363 [==============================] - 3s 8ms/step - loss: 0.4967 - main_output_loss: 0.4376 - aux_output_loss: 1.0280 - val_loss: 0.5124 - val_main_output_loss: 0.4047 - val_aux_output_loss: 1.4812\n",
      "Epoch 16/20\n",
      "363/363 [==============================] - 3s 8ms/step - loss: 0.4916 - main_output_loss: 0.4343 - aux_output_loss: 1.0070 - val_loss: 0.4934 - val_main_output_loss: 0.4034 - val_aux_output_loss: 1.3035\n",
      "Epoch 17/20\n",
      "363/363 [==============================] - 3s 9ms/step - loss: 0.4867 - main_output_loss: 0.4311 - aux_output_loss: 0.9872 - val_loss: 0.4801 - val_main_output_loss: 0.3984 - val_aux_output_loss: 1.2150\n",
      "Epoch 18/20\n",
      "363/363 [==============================] - 3s 8ms/step - loss: 0.4829 - main_output_loss: 0.4289 - aux_output_loss: 0.9686 - val_loss: 0.4694 - val_main_output_loss: 0.3962 - val_aux_output_loss: 1.1279\n",
      "Epoch 19/20\n",
      "363/363 [==============================] - 3s 8ms/step - loss: 0.4785 - main_output_loss: 0.4260 - aux_output_loss: 0.9510 - val_loss: 0.4580 - val_main_output_loss: 0.3936 - val_aux_output_loss: 1.0372\n",
      "Epoch 20/20\n",
      "363/363 [==============================] - 3s 8ms/step - loss: 0.4756 - main_output_loss: 0.4246 - aux_output_loss: 0.9344 - val_loss: 0.4655 - val_main_output_loss: 0.4048 - val_aux_output_loss: 1.0118\n"
     ]
    }
   ],
   "source": [
    "history = model.fit([X_train_A, X_train_B], [y_train, y_train], epochs=20,\n",
    "                    validation_data=([X_valid_A, X_valid_B], [y_valid, y_valid]))\n",
    "# [y_train, y_train]: 각 출력에 대한 레이블(여기서는 주 출력과 보조 출력이 같은 것을 예측하므로 동일한 레이블 사용한 것)"
   ]
  },
  {
   "cell_type": "code",
   "execution_count": 69,
   "id": "16a3c5eb",
   "metadata": {},
   "outputs": [
    {
     "name": "stdout",
     "output_type": "stream",
     "text": [
      "162/162 [==============================] - 1s 5ms/step - loss: 0.4668 - main_output_loss: 0.4178 - aux_output_loss: 0.9082\n",
      "WARNING:tensorflow:5 out of the last 6 calls to <function Model.make_predict_function.<locals>.predict_function at 0x17dfa78b0> triggered tf.function retracing. Tracing is expensive and the excessive number of tracings could be due to (1) creating @tf.function repeatedly in a loop, (2) passing tensors with different shapes, (3) passing Python objects instead of tensors. For (1), please define your @tf.function outside of the loop. For (2), @tf.function has reduce_retracing=True option that can avoid unnecessary retracing. For (3), please refer to https://www.tensorflow.org/guide/function#controlling_retracing and https://www.tensorflow.org/api_docs/python/tf/function for  more details.\n",
      "1/1 [==============================] - 0s 48ms/step\n"
     ]
    },
    {
     "name": "stderr",
     "output_type": "stream",
     "text": [
      "2022-08-25 13:25:55.459054: I tensorflow/core/grappler/optimizers/custom_graph_optimizer_registry.cc:113] Plugin optimizer for device_type GPU is enabled.\n"
     ]
    }
   ],
   "source": [
    "# 총 손실, 주 손실, 보조 손실\n",
    "total_loss, main_loss, aux_loss = model.evaluate(\n",
    "    [X_test_A, X_test_B], [y_test, y_test])\n",
    "\n",
    "# 주 출력에 대한 예측, 보조 출력에 대한 예측\n",
    "y_pred_main, y_pred_aux = model.predict([X_new_A, X_new_B])"
   ]
  },
  {
   "cell_type": "markdown",
   "id": "b0410c61",
   "metadata": {},
   "source": [
    "### 10.2.5 서브클래싱 API로 동적 모델 만들기\n",
    "\n",
    "시퀀셜 API와 함수형 API는 모두 선언적(declarative) -> 사용할 층과 연결 방식을 먼저 정의해야 함 -> 그다음 모델에 데이터를 주입하여 훈련이나 추론을 시작할 수 있음\n",
    "- 이러한 방식의 장점\n",
    "    - 모델 저장, 복사, 공유 쉬움\n",
    "    - 모델의 구조를 출력하거나 분석하기 좋음\n",
    "    - 크기를 짐작하고 타입을 확인하여 에러를 일찍 발견할 수 있음\n",
    "    - 정적 그래프이므로 디버깅하기도 쉬움\n",
    "- 하지만 정적이라는 것이 단점이 되기도 함\n",
    "    - 어떤 모델은 반복문을 포함하고\n",
    "    - 다양한 크기를 다루어야 하며\n",
    "    - 조건문을 가지는 등 여러 동적인 구조를 필요로 함\n",
    "    #### 이런 경우에 조금 더 명령형(imperative) 프로그래밍 스타일이 필요하다면 `서브클래싱 API`가 정답임\n",
    "        - 간단히 Model 클래스를 상속한 다음 생성자 안에서 필요한 층을 만듦. 그다음 call() 메서드 안에 수행하려는 연산을 기술\n",
    "\n",
    "---\n",
    "\n",
    "#### 서브클래싱 API의 단점\n",
    "- 유연성이 높아지면서 그에 따른 비용이 발생\n",
    "    - 모델 구조가 call() 메서드 안에 숨겨져 있기 때문에 이를 케라스가 쉽게 분석할 수 없음. 즉 모델을 저장하거나 복사할 수 없음\n",
    "    - summary() 메서드를 호출하면 층의 목록만 나열되고 층 간의 연결 정보를 얻을 수 없음\n",
    "    - 또한 케라스가 타입과 크기를 미리 확인할 수 없어 실수가 발생하기 쉬움\n",
    "    - 높은 유연성이 필요하지 않다면 시퀀셜 API나 함수형 API를 사용하는 것이 좋음"
   ]
  },
  {
   "cell_type": "code",
   "execution_count": 73,
   "id": "28208b85",
   "metadata": {},
   "outputs": [],
   "source": [
    "class WideAndDeepModel(keras.models.Model):\n",
    "    def __init__(self, units=30, activation='relu', **kwargs):\n",
    "        super().__init__(**kwargs)\n",
    "        self.hidden1 = keras.layers.Dense(units, activation=activation)\n",
    "        self.hidden2 = keras.layers.Dense(units, activation=activation)\n",
    "        self.main_output = keras.layers.Dense(1)\n",
    "        self.aux_output = keras.layers.Dense(1)\n",
    "        \n",
    "    def call(self, inputs):\n",
    "        input_A, input_B = inputs\n",
    "        hidden1 = self.hidden1(input_B)\n",
    "        hidden2 = self.hidden2(hidden1)\n",
    "        concat = keras.layers.concatenate([input_A, hidden2])\n",
    "        main_output = self.main_output(concat)\n",
    "        aux_output = self.aux_output(hidden2)\n",
    "        return main_output, aux_output\n",
    "\n",
    "# 위 예제는 함수형 API와 비슷하지만 Input 클래스의 객체를 만들 필요가 없음\n",
    "# 대신 call() 메서드의 input 매개변수를 사용\n",
    "    \n",
    "    \n",
    "    \n",
    "model = WideAndDeepModel(30, activation=\"relu\")"
   ]
  },
  {
   "cell_type": "code",
   "execution_count": 75,
   "id": "d04ff394",
   "metadata": {},
   "outputs": [
    {
     "name": "stdout",
     "output_type": "stream",
     "text": [
      "Epoch 1/10\n",
      "  8/363 [..............................] - ETA: 2s - loss: 5.3782 - output_1_loss: 5.4715 - output_2_loss: 4.5384  "
     ]
    },
    {
     "name": "stderr",
     "output_type": "stream",
     "text": [
      "2022-08-25 13:34:14.924731: I tensorflow/core/grappler/optimizers/custom_graph_optimizer_registry.cc:113] Plugin optimizer for device_type GPU is enabled.\n"
     ]
    },
    {
     "name": "stdout",
     "output_type": "stream",
     "text": [
      "363/363 [==============================] - ETA: 0s - loss: 2.3298 - output_1_loss: 2.2186 - output_2_loss: 3.3304"
     ]
    },
    {
     "name": "stderr",
     "output_type": "stream",
     "text": [
      "2022-08-25 13:34:17.695737: I tensorflow/core/grappler/optimizers/custom_graph_optimizer_registry.cc:113] Plugin optimizer for device_type GPU is enabled.\n"
     ]
    },
    {
     "name": "stdout",
     "output_type": "stream",
     "text": [
      "363/363 [==============================] - 4s 9ms/step - loss: 2.3298 - output_1_loss: 2.2186 - output_2_loss: 3.3304 - val_loss: 2.1435 - val_output_1_loss: 1.1581 - val_output_2_loss: 11.0117\n",
      "Epoch 2/10\n",
      "363/363 [==============================] - 3s 8ms/step - loss: 0.9714 - output_1_loss: 0.8543 - output_2_loss: 2.0252 - val_loss: 1.7567 - val_output_1_loss: 0.8205 - val_output_2_loss: 10.1825\n",
      "Epoch 3/10\n",
      "363/363 [==============================] - 3s 8ms/step - loss: 0.8268 - output_1_loss: 0.7289 - output_2_loss: 1.7082 - val_loss: 1.5664 - val_output_1_loss: 0.7913 - val_output_2_loss: 8.5419\n",
      "Epoch 4/10\n",
      "363/363 [==============================] - 3s 8ms/step - loss: 0.7636 - output_1_loss: 0.6764 - output_2_loss: 1.5477 - val_loss: 1.3088 - val_output_1_loss: 0.6549 - val_output_2_loss: 7.1933\n",
      "Epoch 5/10\n",
      "363/363 [==============================] - 3s 8ms/step - loss: 0.7211 - output_1_loss: 0.6402 - output_2_loss: 1.4489 - val_loss: 1.1357 - val_output_1_loss: 0.5964 - val_output_2_loss: 5.9898\n",
      "Epoch 6/10\n",
      "363/363 [==============================] - 3s 8ms/step - loss: 0.6895 - output_1_loss: 0.6124 - output_2_loss: 1.3833 - val_loss: 1.0036 - val_output_1_loss: 0.5937 - val_output_2_loss: 4.6933\n",
      "Epoch 7/10\n",
      "363/363 [==============================] - 3s 8ms/step - loss: 0.6632 - output_1_loss: 0.5894 - output_2_loss: 1.3274 - val_loss: 0.8904 - val_output_1_loss: 0.5591 - val_output_2_loss: 3.8714\n",
      "Epoch 8/10\n",
      "363/363 [==============================] - 3s 8ms/step - loss: 0.6410 - output_1_loss: 0.5701 - output_2_loss: 1.2796 - val_loss: 0.8009 - val_output_1_loss: 0.5243 - val_output_2_loss: 3.2903\n",
      "Epoch 9/10\n",
      "363/363 [==============================] - 3s 8ms/step - loss: 0.6204 - output_1_loss: 0.5514 - output_2_loss: 1.2416 - val_loss: 0.7357 - val_output_1_loss: 0.5144 - val_output_2_loss: 2.7275\n",
      "Epoch 10/10\n",
      "363/363 [==============================] - 3s 8ms/step - loss: 0.6024 - output_1_loss: 0.5355 - output_2_loss: 1.2043 - val_loss: 0.6849 - val_output_1_loss: 0.5014 - val_output_2_loss: 2.3370\n",
      "162/162 [==============================] - 1s 5ms/step - loss: 0.5841 - output_1_loss: 0.5188 - output_2_loss: 1.1722\n",
      "WARNING:tensorflow:6 out of the last 7 calls to <function Model.make_predict_function.<locals>.predict_function at 0x17a3d80d0> triggered tf.function retracing. Tracing is expensive and the excessive number of tracings could be due to (1) creating @tf.function repeatedly in a loop, (2) passing tensors with different shapes, (3) passing Python objects instead of tensors. For (1), please define your @tf.function outside of the loop. For (2), @tf.function has reduce_retracing=True option that can avoid unnecessary retracing. For (3), please refer to https://www.tensorflow.org/guide/function#controlling_retracing and https://www.tensorflow.org/api_docs/python/tf/function for  more details.\n",
      "1/1 [==============================] - 0s 50ms/step\n"
     ]
    },
    {
     "name": "stderr",
     "output_type": "stream",
     "text": [
      "2022-08-25 13:34:44.488279: I tensorflow/core/grappler/optimizers/custom_graph_optimizer_registry.cc:113] Plugin optimizer for device_type GPU is enabled.\n"
     ]
    }
   ],
   "source": [
    "model.compile(loss=\"mse\", loss_weights=[0.9, 0.1], optimizer=keras.optimizers.SGD(learning_rate=1e-3))\n",
    "history = model.fit((X_train_A, X_train_B), (y_train, y_train), epochs=10,\n",
    "                    validation_data=((X_valid_A, X_valid_B), (y_valid, y_valid)))\n",
    "total_loss, main_loss, aux_loss = model.evaluate((X_test_A, X_test_B), (y_test, y_test))\n",
    "y_pred_main, y_pred_aux = model.predict((X_new_A, X_new_B))"
   ]
  },
  {
   "cell_type": "code",
   "execution_count": 76,
   "id": "41a5b2f1",
   "metadata": {},
   "outputs": [
    {
     "name": "stdout",
     "output_type": "stream",
     "text": [
      "Model: \"wide_and_deep_model_1\"\n",
      "_________________________________________________________________\n",
      " Layer (type)                Output Shape              Param #   \n",
      "=================================================================\n",
      " dense_20 (Dense)            multiple                  210       \n",
      "                                                                 \n",
      " dense_21 (Dense)            multiple                  930       \n",
      "                                                                 \n",
      " dense_22 (Dense)            multiple                  36        \n",
      "                                                                 \n",
      " dense_23 (Dense)            multiple                  31        \n",
      "                                                                 \n",
      "=================================================================\n",
      "Total params: 1,207\n",
      "Trainable params: 1,207\n",
      "Non-trainable params: 0\n",
      "_________________________________________________________________\n"
     ]
    }
   ],
   "source": [
    "model.summary() # 층 간의 연결 정보를 알 수 없음"
   ]
  },
  {
   "cell_type": "markdown",
   "id": "e16781ae",
   "metadata": {},
   "source": [
    "### 10.2.6 모델 저장과 복원"
   ]
  },
  {
   "cell_type": "code",
   "execution_count": 77,
   "id": "b8e6c341",
   "metadata": {},
   "outputs": [],
   "source": [
    "np.random.seed(42)\n",
    "tf.random.set_seed(42)"
   ]
  },
  {
   "cell_type": "code",
   "execution_count": 78,
   "id": "c522c7ff",
   "metadata": {},
   "outputs": [],
   "source": [
    "model = keras.models.Sequential([\n",
    "    keras.layers.Dense(30, activation='relu', input_shape=[8]),\n",
    "    keras.layers.Dense(30, activation='relu'),\n",
    "    keras.layers.Dense(1)\n",
    "])"
   ]
  },
  {
   "cell_type": "code",
   "execution_count": 79,
   "id": "e6bbffe0",
   "metadata": {
    "scrolled": true
   },
   "outputs": [
    {
     "name": "stdout",
     "output_type": "stream",
     "text": [
      "Epoch 1/10\n",
      " 24/363 [>.............................] - ETA: 1s - loss: 6.2442 "
     ]
    },
    {
     "name": "stderr",
     "output_type": "stream",
     "text": [
      "2022-08-25 13:46:47.542846: I tensorflow/core/grappler/optimizers/custom_graph_optimizer_registry.cc:113] Plugin optimizer for device_type GPU is enabled.\n"
     ]
    },
    {
     "name": "stdout",
     "output_type": "stream",
     "text": [
      "358/363 [============================>.] - ETA: 0s - loss: 1.9018"
     ]
    },
    {
     "name": "stderr",
     "output_type": "stream",
     "text": [
      "2022-08-25 13:46:49.232056: I tensorflow/core/grappler/optimizers/custom_graph_optimizer_registry.cc:113] Plugin optimizer for device_type GPU is enabled.\n"
     ]
    },
    {
     "name": "stdout",
     "output_type": "stream",
     "text": [
      "363/363 [==============================] - 2s 5ms/step - loss: 1.8866 - val_loss: 0.7126\n",
      "Epoch 2/10\n",
      "363/363 [==============================] - 2s 5ms/step - loss: 0.6577 - val_loss: 0.6880\n",
      "Epoch 3/10\n",
      "363/363 [==============================] - 2s 5ms/step - loss: 0.5934 - val_loss: 0.5803\n",
      "Epoch 4/10\n",
      "363/363 [==============================] - 2s 5ms/step - loss: 0.5557 - val_loss: 0.5166\n",
      "Epoch 5/10\n",
      "363/363 [==============================] - 2s 5ms/step - loss: 0.5272 - val_loss: 0.4895\n",
      "Epoch 6/10\n",
      "363/363 [==============================] - 2s 5ms/step - loss: 0.5033 - val_loss: 0.4951\n",
      "Epoch 7/10\n",
      "363/363 [==============================] - 2s 5ms/step - loss: 0.4854 - val_loss: 0.4861\n",
      "Epoch 8/10\n",
      "363/363 [==============================] - 2s 5ms/step - loss: 0.4709 - val_loss: 0.4554\n",
      "Epoch 9/10\n",
      "363/363 [==============================] - 2s 5ms/step - loss: 0.4578 - val_loss: 0.4413\n",
      "Epoch 10/10\n",
      "363/363 [==============================] - 2s 5ms/step - loss: 0.4474 - val_loss: 0.4379\n",
      "162/162 [==============================] - 0s 3ms/step - loss: 0.4382\n"
     ]
    }
   ],
   "source": [
    "model.compile(loss='mse', optimizer=keras.optimizers.SGD(learning_rate=1e-3))\n",
    "history = model.fit(X_train, y_train, epochs=10, validation_data=(X_valid, y_valid))\n",
    "mse_test = model.evaluate(X_test, y_test)"
   ]
  },
  {
   "cell_type": "code",
   "execution_count": 80,
   "id": "07ebecae",
   "metadata": {},
   "outputs": [],
   "source": [
    "model.save('my_keras_model.h5') # HDF5 포맷\n",
    "# 모든 층의 하이퍼파라미터 + 모델 구조 + 층의 모든 모델 파라미터(연결 가중치와 편향) + 옵티마이저 저장\n",
    "\n",
    "# 일반적으로 하나의 파이썬 스크립트에서 모델을 훈련하고 저장한 다음 하나 이상의 스크립트 또는 웹 서비스에서\n",
    "# 모델을 로드하고 예측을 만드는 데 활용함\n",
    "\n",
    "# 시퀀셜 API와 함수형 API에서는 이러한 방식을 사용 가능\n",
    "# 서브클래싱에서는 사용 불가 -> save_weights()와 load_weights() 메서드를 사용해 모델 파라미터를 저장하고 복원할 수 있음\n",
    "# 그 외에는 모두 수동으로 저장하고 복원해야 함"
   ]
  },
  {
   "cell_type": "code",
   "execution_count": 81,
   "id": "9cee8f5a",
   "metadata": {},
   "outputs": [],
   "source": [
    "model = keras.models.load_model('my_keras_model.h5') # 모델 불러오기"
   ]
  },
  {
   "cell_type": "code",
   "execution_count": 82,
   "id": "7ea5dbf4",
   "metadata": {},
   "outputs": [
    {
     "name": "stdout",
     "output_type": "stream",
     "text": [
      "1/1 [==============================] - 0s 40ms/step\n"
     ]
    },
    {
     "name": "stderr",
     "output_type": "stream",
     "text": [
      "2022-08-25 13:50:58.453779: I tensorflow/core/grappler/optimizers/custom_graph_optimizer_registry.cc:113] Plugin optimizer for device_type GPU is enabled.\n"
     ]
    },
    {
     "data": {
      "text/plain": [
       "array([[0.5400236],\n",
       "       [1.6505971],\n",
       "       [3.0098243]], dtype=float32)"
      ]
     },
     "execution_count": 82,
     "metadata": {},
     "output_type": "execute_result"
    }
   ],
   "source": [
    "model.predict(X_new)"
   ]
  },
  {
   "cell_type": "code",
   "execution_count": 83,
   "id": "5c14d937",
   "metadata": {},
   "outputs": [],
   "source": [
    "model.save_weights('my_keras_weights.ckpt')"
   ]
  },
  {
   "cell_type": "code",
   "execution_count": 84,
   "id": "bf2bd2b1",
   "metadata": {},
   "outputs": [
    {
     "data": {
      "text/plain": [
       "<tensorflow.python.training.tracking.util.CheckpointLoadStatus at 0x2ab1d8be0>"
      ]
     },
     "execution_count": 84,
     "metadata": {},
     "output_type": "execute_result"
    }
   ],
   "source": [
    "model.load_weights('my_keras_weights.ckpt')"
   ]
  },
  {
   "cell_type": "markdown",
   "id": "02a4339e",
   "metadata": {},
   "source": [
    "### 10.2.7 콜백 사용하기"
   ]
  },
  {
   "cell_type": "markdown",
   "id": "d8239781",
   "metadata": {},
   "source": [
    "훈련이 몇 시간 동안 지속되는 경우? -> 훈련 마지막에 모델을 저장하는 것뿐만 아니라 훈련 도중 일정 간격으로 체크포인트를 저장해야 함\n",
    "- 체크포인트: 텐서플로에서 모델 파라미터를 저장하는 포맷\n",
    "\n",
    "-> 어떻게 fit() 메서드에서 체크포인트를 저장? -> 콜백 사용"
   ]
  },
  {
   "cell_type": "code",
   "execution_count": 85,
   "id": "e5f50d0b",
   "metadata": {},
   "outputs": [],
   "source": [
    "keras.backend.clear_session()\n",
    "np.random.seed(42)\n",
    "tf.random.set_seed(42)"
   ]
  },
  {
   "cell_type": "code",
   "execution_count": 86,
   "id": "45ff13a5",
   "metadata": {},
   "outputs": [],
   "source": [
    "model = keras.models.Sequential([\n",
    "    keras.layers.Dense(30, activation='relu', input_shape=[8]),\n",
    "    keras.layers.Dense(30, activation='relu'),\n",
    "    keras.layers.Dense(1)\n",
    "])"
   ]
  },
  {
   "cell_type": "code",
   "execution_count": 87,
   "id": "a89f02c3",
   "metadata": {
    "scrolled": true
   },
   "outputs": [
    {
     "name": "stdout",
     "output_type": "stream",
     "text": [
      "Epoch 1/10\n",
      " 24/363 [>.............................] - ETA: 1s - loss: nan                                  "
     ]
    },
    {
     "name": "stderr",
     "output_type": "stream",
     "text": [
      "2022-08-25 14:01:58.123475: I tensorflow/core/grappler/optimizers/custom_graph_optimizer_registry.cc:113] Plugin optimizer for device_type GPU is enabled.\n"
     ]
    },
    {
     "name": "stdout",
     "output_type": "stream",
     "text": [
      "361/363 [============================>.] - ETA: 0s - loss: nan"
     ]
    },
    {
     "name": "stderr",
     "output_type": "stream",
     "text": [
      "2022-08-25 14:01:59.910990: I tensorflow/core/grappler/optimizers/custom_graph_optimizer_registry.cc:113] Plugin optimizer for device_type GPU is enabled.\n"
     ]
    },
    {
     "name": "stdout",
     "output_type": "stream",
     "text": [
      "363/363 [==============================] - 2s 6ms/step - loss: nan - val_loss: nan\n",
      "Epoch 2/10\n",
      "363/363 [==============================] - 2s 5ms/step - loss: nan - val_loss: nan\n",
      "Epoch 3/10\n",
      "363/363 [==============================] - 2s 5ms/step - loss: nan - val_loss: nan\n",
      "Epoch 4/10\n",
      "363/363 [==============================] - 2s 5ms/step - loss: nan - val_loss: nan\n",
      "Epoch 5/10\n",
      "363/363 [==============================] - 2s 5ms/step - loss: nan - val_loss: nan\n",
      "Epoch 6/10\n",
      "363/363 [==============================] - 2s 5ms/step - loss: nan - val_loss: nan\n",
      "Epoch 7/10\n",
      "363/363 [==============================] - 2s 5ms/step - loss: nan - val_loss: nan\n",
      "Epoch 8/10\n",
      "363/363 [==============================] - 2s 5ms/step - loss: nan - val_loss: nan\n",
      "Epoch 9/10\n",
      "363/363 [==============================] - 2s 5ms/step - loss: nan - val_loss: nan\n",
      "Epoch 10/10\n",
      "363/363 [==============================] - 2s 5ms/step - loss: nan - val_loss: nan\n",
      " 54/162 [=========>....................] - ETA: 0s - loss: 0.4705"
     ]
    },
    {
     "name": "stderr",
     "output_type": "stream",
     "text": [
      "2022-08-25 14:02:16.568079: I tensorflow/core/grappler/optimizers/custom_graph_optimizer_registry.cc:113] Plugin optimizer for device_type GPU is enabled.\n"
     ]
    },
    {
     "name": "stdout",
     "output_type": "stream",
     "text": [
      "162/162 [==============================] - 1s 3ms/step - loss: 0.4382\n"
     ]
    }
   ],
   "source": [
    "# fit() 메서드의 callbacks 매개변수를 사용해 케라스가 훈련의 시작이나 끝에 호출할 객체 리스트를 저장할 수 있음\n",
    "# 또는 에포크의 시작, 끝, 각 배치 처리 전후에 호출할 수도 있음\n",
    "\n",
    "# 아래에서 사용한 ModelCheckpoint는 훈련하는 동안 일정한 간격으로 모델의 체크포인트를 저장(기본적으로 매 에포크의 끝에서 호출됨)\n",
    "\n",
    "model.compile(loss='mse', optimizer=keras.optimizers.SGD(learning_rate=12-3))\n",
    "\n",
    "# 훈련하는 동안 검증 셋을 사용하면 save_best_only=True로 지정 가능 -> 최상의 검증 셋 점수에서만 모델을 저장함 -> 과대적합 걱정할 필요 없음\n",
    "checkpoint_cb = keras.callbacks.ModelCheckpoint('my_keras_model.h5', save_best_only=True)\n",
    "history = model.fit(X_train, y_train, epochs=10,\n",
    "                   validation_data=(X_valid, y_valid),\n",
    "                   callbacks=[checkpoint_cb])\n",
    "\n",
    "# 검증 셋 점수가 제일 높은 모델이 복원되겠지\n",
    "model = keras.models.load_model('my_keras_model.h5')\n",
    "\n",
    "mse_test = model.evaluate(X_test, y_test)"
   ]
  },
  {
   "cell_type": "code",
   "execution_count": 89,
   "id": "12e54d24",
   "metadata": {},
   "outputs": [
    {
     "name": "stdout",
     "output_type": "stream",
     "text": [
      "Epoch 1/100\n",
      " 23/363 [>.............................] - ETA: 1s - loss: 0.5196 "
     ]
    },
    {
     "name": "stderr",
     "output_type": "stream",
     "text": [
      "2022-08-25 14:20:49.112400: I tensorflow/core/grappler/optimizers/custom_graph_optimizer_registry.cc:113] Plugin optimizer for device_type GPU is enabled.\n"
     ]
    },
    {
     "name": "stdout",
     "output_type": "stream",
     "text": [
      "363/363 [==============================] - 2s 5ms/step - loss: 0.4393 - val_loss: 0.4110\n",
      "Epoch 2/100\n",
      "363/363 [==============================] - 2s 5ms/step - loss: 0.4315 - val_loss: 0.4266\n",
      "Epoch 3/100\n",
      "363/363 [==============================] - 2s 5ms/step - loss: 0.4259 - val_loss: 0.3996\n",
      "Epoch 4/100\n",
      "363/363 [==============================] - 2s 5ms/step - loss: 0.4201 - val_loss: 0.3939\n",
      "Epoch 5/100\n",
      "363/363 [==============================] - 2s 5ms/step - loss: 0.4154 - val_loss: 0.3889\n",
      "Epoch 6/100\n",
      "363/363 [==============================] - 2s 5ms/step - loss: 0.4111 - val_loss: 0.3866\n",
      "Epoch 7/100\n",
      "363/363 [==============================] - 2s 5ms/step - loss: 0.4074 - val_loss: 0.3860\n",
      "Epoch 8/100\n",
      "363/363 [==============================] - 2s 5ms/step - loss: 0.4040 - val_loss: 0.3793\n",
      "Epoch 9/100\n",
      "363/363 [==============================] - 2s 5ms/step - loss: 0.4008 - val_loss: 0.3746\n",
      "Epoch 10/100\n",
      "363/363 [==============================] - 2s 5ms/step - loss: 0.3976 - val_loss: 0.3723\n",
      "Epoch 11/100\n",
      "363/363 [==============================] - 2s 5ms/step - loss: 0.3950 - val_loss: 0.3697\n",
      "Epoch 12/100\n",
      "363/363 [==============================] - 2s 5ms/step - loss: 0.3923 - val_loss: 0.3669\n",
      "Epoch 13/100\n",
      "363/363 [==============================] - 2s 5ms/step - loss: 0.3897 - val_loss: 0.3661\n",
      "Epoch 14/100\n",
      "363/363 [==============================] - 2s 5ms/step - loss: 0.3874 - val_loss: 0.3631\n",
      "Epoch 15/100\n",
      "363/363 [==============================] - 2s 5ms/step - loss: 0.3851 - val_loss: 0.3660\n",
      "Epoch 16/100\n",
      "363/363 [==============================] - 2s 5ms/step - loss: 0.3829 - val_loss: 0.3625\n",
      "Epoch 17/100\n",
      "363/363 [==============================] - 2s 5ms/step - loss: 0.3810 - val_loss: 0.3592\n",
      "Epoch 18/100\n",
      "363/363 [==============================] - 2s 5ms/step - loss: 0.3788 - val_loss: 0.3563\n",
      "Epoch 19/100\n",
      "363/363 [==============================] - 2s 5ms/step - loss: 0.3766 - val_loss: 0.3535\n",
      "Epoch 20/100\n",
      "363/363 [==============================] - 2s 5ms/step - loss: 0.3750 - val_loss: 0.3709\n",
      "Epoch 21/100\n",
      "363/363 [==============================] - 2s 5ms/step - loss: 0.3732 - val_loss: 0.3512\n",
      "Epoch 22/100\n",
      "363/363 [==============================] - 2s 5ms/step - loss: 0.3715 - val_loss: 0.3699\n",
      "Epoch 23/100\n",
      "363/363 [==============================] - 2s 5ms/step - loss: 0.3700 - val_loss: 0.3476\n",
      "Epoch 24/100\n",
      "363/363 [==============================] - 2s 5ms/step - loss: 0.3685 - val_loss: 0.3561\n",
      "Epoch 25/100\n",
      "363/363 [==============================] - 2s 5ms/step - loss: 0.3671 - val_loss: 0.3527\n",
      "Epoch 26/100\n",
      "363/363 [==============================] - 2s 5ms/step - loss: 0.3658 - val_loss: 0.3700\n",
      "Epoch 27/100\n",
      "363/363 [==============================] - 2s 5ms/step - loss: 0.3647 - val_loss: 0.3432\n",
      "Epoch 28/100\n",
      "363/363 [==============================] - 2s 5ms/step - loss: 0.3635 - val_loss: 0.3592\n",
      "Epoch 29/100\n",
      "363/363 [==============================] - 2s 5ms/step - loss: 0.3625 - val_loss: 0.3521\n",
      "Epoch 30/100\n",
      "363/363 [==============================] - 2s 5ms/step - loss: 0.3613 - val_loss: 0.3626\n",
      "Epoch 31/100\n",
      "363/363 [==============================] - 2s 5ms/step - loss: 0.3601 - val_loss: 0.3431\n",
      "Epoch 32/100\n",
      "363/363 [==============================] - 2s 5ms/step - loss: 0.3589 - val_loss: 0.3765\n",
      "Epoch 33/100\n",
      "363/363 [==============================] - 2s 5ms/step - loss: 0.3584 - val_loss: 0.3374\n",
      "Epoch 34/100\n",
      "363/363 [==============================] - 2s 5ms/step - loss: 0.3572 - val_loss: 0.3407\n",
      "Epoch 35/100\n",
      "363/363 [==============================] - 2s 5ms/step - loss: 0.3563 - val_loss: 0.3614\n",
      "Epoch 36/100\n",
      "363/363 [==============================] - 2s 6ms/step - loss: 0.3555 - val_loss: 0.3348\n",
      "Epoch 37/100\n",
      "363/363 [==============================] - 2s 5ms/step - loss: 0.3546 - val_loss: 0.3573\n",
      "Epoch 38/100\n",
      "363/363 [==============================] - 2s 5ms/step - loss: 0.3538 - val_loss: 0.3367\n",
      "Epoch 39/100\n",
      "363/363 [==============================] - 2s 5ms/step - loss: 0.3530 - val_loss: 0.3425\n",
      "Epoch 40/100\n",
      "363/363 [==============================] - 2s 5ms/step - loss: 0.3523 - val_loss: 0.3369\n",
      "Epoch 41/100\n",
      "363/363 [==============================] - 2s 5ms/step - loss: 0.3515 - val_loss: 0.3515\n",
      "Epoch 42/100\n",
      "363/363 [==============================] - 2s 5ms/step - loss: 0.3511 - val_loss: 0.3426\n",
      "Epoch 43/100\n",
      "363/363 [==============================] - 2s 5ms/step - loss: 0.3500 - val_loss: 0.3677\n",
      "Epoch 44/100\n",
      "363/363 [==============================] - 2s 5ms/step - loss: 0.3496 - val_loss: 0.3563\n",
      "Epoch 45/100\n",
      "363/363 [==============================] - 2s 5ms/step - loss: 0.3490 - val_loss: 0.3336\n",
      "Epoch 46/100\n",
      "363/363 [==============================] - 2s 5ms/step - loss: 0.3481 - val_loss: 0.3456\n",
      "Epoch 47/100\n",
      "363/363 [==============================] - 2s 5ms/step - loss: 0.3478 - val_loss: 0.3433\n",
      "Epoch 48/100\n",
      "363/363 [==============================] - 2s 5ms/step - loss: 0.3471 - val_loss: 0.3659\n",
      "Epoch 49/100\n",
      "363/363 [==============================] - 2s 5ms/step - loss: 0.3466 - val_loss: 0.3286\n",
      "Epoch 50/100\n",
      "363/363 [==============================] - 2s 5ms/step - loss: 0.3460 - val_loss: 0.3268\n",
      "Epoch 51/100\n",
      "363/363 [==============================] - 2s 5ms/step - loss: 0.3454 - val_loss: 0.3438\n",
      "Epoch 52/100\n",
      "363/363 [==============================] - 2s 5ms/step - loss: 0.3449 - val_loss: 0.3262\n",
      "Epoch 53/100\n",
      "363/363 [==============================] - 2s 5ms/step - loss: 0.3444 - val_loss: 0.3911\n",
      "Epoch 54/100\n",
      "363/363 [==============================] - 2s 5ms/step - loss: 0.3439 - val_loss: 0.3275\n",
      "Epoch 55/100\n",
      "363/363 [==============================] - 2s 5ms/step - loss: 0.3435 - val_loss: 0.3561\n",
      "Epoch 56/100\n",
      "363/363 [==============================] - 2s 6ms/step - loss: 0.3430 - val_loss: 0.3237\n",
      "Epoch 57/100\n",
      "363/363 [==============================] - 2s 5ms/step - loss: 0.3423 - val_loss: 0.3242\n",
      "Epoch 58/100\n",
      "363/363 [==============================] - 2s 5ms/step - loss: 0.3419 - val_loss: 0.3764\n",
      "Epoch 59/100\n",
      "363/363 [==============================] - 2s 5ms/step - loss: 0.3417 - val_loss: 0.3289\n",
      "Epoch 60/100\n",
      "363/363 [==============================] - 2s 5ms/step - loss: 0.3410 - val_loss: 0.3502\n",
      "Epoch 61/100\n",
      "363/363 [==============================] - 2s 5ms/step - loss: 0.3404 - val_loss: 0.3456\n",
      "Epoch 62/100\n",
      "363/363 [==============================] - 2s 5ms/step - loss: 0.3402 - val_loss: 0.3445\n",
      "Epoch 63/100\n",
      "363/363 [==============================] - 2s 5ms/step - loss: 0.3392 - val_loss: 0.3290\n",
      "Epoch 64/100\n",
      "363/363 [==============================] - 2s 5ms/step - loss: 0.3393 - val_loss: 0.3217\n",
      "Epoch 65/100\n",
      "363/363 [==============================] - 2s 5ms/step - loss: 0.3387 - val_loss: 0.3351\n",
      "Epoch 66/100\n",
      "363/363 [==============================] - 2s 5ms/step - loss: 0.3383 - val_loss: 0.3232\n",
      "Epoch 67/100\n",
      "363/363 [==============================] - 2s 5ms/step - loss: 0.3376 - val_loss: 0.3567\n",
      "Epoch 68/100\n",
      "363/363 [==============================] - 2s 5ms/step - loss: 0.3374 - val_loss: 0.3257\n",
      "Epoch 69/100\n",
      "363/363 [==============================] - 2s 5ms/step - loss: 0.3370 - val_loss: 0.3348\n",
      "Epoch 70/100\n",
      "363/363 [==============================] - 2s 5ms/step - loss: 0.3365 - val_loss: 0.3560\n",
      "Epoch 71/100\n",
      "363/363 [==============================] - 2s 5ms/step - loss: 0.3361 - val_loss: 0.3581\n",
      "Epoch 72/100\n",
      "363/363 [==============================] - 2s 5ms/step - loss: 0.3357 - val_loss: 0.3287\n",
      "Epoch 73/100\n",
      "363/363 [==============================] - 2s 5ms/step - loss: 0.3351 - val_loss: 0.3203\n",
      "Epoch 74/100\n",
      "363/363 [==============================] - 2s 5ms/step - loss: 0.3350 - val_loss: 0.3841\n",
      "Epoch 75/100\n",
      "363/363 [==============================] - 2s 5ms/step - loss: 0.3347 - val_loss: 0.3234\n",
      "Epoch 76/100\n",
      "363/363 [==============================] - 2s 5ms/step - loss: 0.3342 - val_loss: 0.3476\n",
      "Epoch 77/100\n",
      "363/363 [==============================] - 2s 5ms/step - loss: 0.3338 - val_loss: 0.3409\n",
      "Epoch 78/100\n",
      "363/363 [==============================] - 2s 5ms/step - loss: 0.3335 - val_loss: 0.3462\n",
      "Epoch 79/100\n",
      "363/363 [==============================] - 2s 5ms/step - loss: 0.3332 - val_loss: 0.3348\n",
      "Epoch 80/100\n",
      "363/363 [==============================] - 2s 5ms/step - loss: 0.3329 - val_loss: 0.3355\n",
      "Epoch 81/100\n"
     ]
    },
    {
     "name": "stdout",
     "output_type": "stream",
     "text": [
      "363/363 [==============================] - 2s 5ms/step - loss: 0.3324 - val_loss: 0.3274\n",
      "Epoch 82/100\n",
      "363/363 [==============================] - 2s 5ms/step - loss: 0.3320 - val_loss: 0.3166\n",
      "Epoch 83/100\n",
      "363/363 [==============================] - 2s 5ms/step - loss: 0.3317 - val_loss: 0.3278\n",
      "Epoch 84/100\n",
      "363/363 [==============================] - 2s 5ms/step - loss: 0.3312 - val_loss: 0.3637\n",
      "Epoch 85/100\n",
      "363/363 [==============================] - 2s 5ms/step - loss: 0.3310 - val_loss: 0.3175\n",
      "Epoch 86/100\n",
      "363/363 [==============================] - 2s 5ms/step - loss: 0.3308 - val_loss: 0.3156\n",
      "Epoch 87/100\n",
      "363/363 [==============================] - 2s 5ms/step - loss: 0.3305 - val_loss: 0.3524\n",
      "Epoch 88/100\n",
      "363/363 [==============================] - 2s 5ms/step - loss: 0.3299 - val_loss: 0.3258\n",
      "Epoch 89/100\n",
      "363/363 [==============================] - 2s 5ms/step - loss: 0.3294 - val_loss: 0.3625\n",
      "Epoch 90/100\n",
      "363/363 [==============================] - 2s 5ms/step - loss: 0.3296 - val_loss: 0.3380\n",
      "Epoch 91/100\n",
      "363/363 [==============================] - 2s 5ms/step - loss: 0.3291 - val_loss: 0.3211\n",
      "Epoch 92/100\n",
      "363/363 [==============================] - 2s 5ms/step - loss: 0.3287 - val_loss: 0.3458\n",
      "Epoch 93/100\n",
      "363/363 [==============================] - 2s 5ms/step - loss: 0.3285 - val_loss: 0.3158\n",
      "Epoch 94/100\n",
      "363/363 [==============================] - 2s 5ms/step - loss: 0.3281 - val_loss: 0.3407\n",
      "Epoch 95/100\n",
      "363/363 [==============================] - 2s 5ms/step - loss: 0.3276 - val_loss: 0.3379\n",
      "Epoch 96/100\n",
      "363/363 [==============================] - 2s 5ms/step - loss: 0.3273 - val_loss: 0.3213\n"
     ]
    }
   ],
   "source": [
    "# EarlyStopping 콜백: 조기 종료 구현. 일정 에포크(patience) 동안 검증 셋에 대한 점수가 향상되지 않으면 훈련을 멈춤\n",
    "# keras.callbacks 패키지에는 다른 종류의 콜백이 많음\n",
    "\n",
    "early_stopping_cb = keras.callbacks.EarlyStopping(patience=10,\n",
    "                                                 restore_best_weights=True)\n",
    "\n",
    "history = model.fit(X_train, y_train, epochs=100,\n",
    "                   validation_data=(X_valid, y_valid),\n",
    "                   callbacks=[checkpoint_cb, early_stopping_cb])"
   ]
  },
  {
   "cell_type": "code",
   "execution_count": 90,
   "id": "86d88f58",
   "metadata": {},
   "outputs": [],
   "source": [
    "# 더 많은 제어를 원한다면 사용자 정의 콜백을 만들 수 있음\n",
    "\n",
    "# 예시) 아래 콜백은 훈련하는 동안 검증 손실과 훈련 손실의 비율을 출력\n",
    "\n",
    "class PrintValTrainRatioCallback(keras.callbacks.Callback):\n",
    "    def on_epoch_end(self, epoch, logs):\n",
    "        print('\\nval/train: {:.2f}'.format(logs['val_loss'] / logs['loss']))"
   ]
  },
  {
   "cell_type": "code",
   "execution_count": 91,
   "id": "a74bf4b6",
   "metadata": {},
   "outputs": [
    {
     "name": "stdout",
     "output_type": "stream",
     "text": [
      "358/363 [============================>.] - ETA: 0s - loss: 0.3297\n",
      "val/train: 1.08\n",
      "363/363 [==============================] - 2s 5ms/step - loss: 0.3302 - val_loss: 0.3556\n"
     ]
    }
   ],
   "source": [
    "val_train_ratio_cb = PrintValTrainRatioCallback()\n",
    "history = model.fit(X_train, y_train, epochs=1,\n",
    "                   validation_data=(X_valid, y_valid),\n",
    "                   callbacks=[val_train_ratio_cb])"
   ]
  },
  {
   "cell_type": "markdown",
   "id": "97df78d5",
   "metadata": {},
   "source": [
    "### 10.2.8 텐서보드를 사용해 시각화하기"
   ]
  },
  {
   "cell_type": "code",
   "execution_count": 92,
   "id": "032b78f7",
   "metadata": {},
   "outputs": [],
   "source": [
    "# 텐서보드: 인터렉티브 시각화 도구\n",
    "\n",
    "# 텐서보드 서버가 루트 로그 디렉토리를 가리키고 프로그램은 실행할 때마다 다른 서브디렉토리에 이벤트를 기록\n",
    "# 텐서보드 서버는 로그 디렉토리를 모니터링하고 자동으로 변경사항을 읽어 그래프를 업데이트함\n",
    "\n",
    "import os\n",
    "root_logdir = os.path.join(os.curdir, 'my_logs') # 루트 로그 디렉토리 정의\n",
    "\n",
    "def get_run_logdir(): # 현재 날짜와 시간을 사용해 실행할 때마다 다른 서브디렉토리 경로를 생성하는 함수\n",
    "    import time\n",
    "    run_id = time.strftime('run_%Y_%m_%d-%H_%M_%S')\n",
    "    return os.path.join(root_logdir, run_id)\n",
    "\n",
    "run_logdir = get_run_logdir() # 예) './my_logs/run_2019_06_07-15_15_22'\n",
    "# 이름은 짓기 나름이겠지(하이퍼파라미터 값으로 지을수도 있고)\n",
    "# 이렇게 이름을 지으면 텐서보드에서 어떤 로그인지 구분하기 편리하겠지"
   ]
  },
  {
   "cell_type": "code",
   "execution_count": 93,
   "id": "d43c7022",
   "metadata": {},
   "outputs": [],
   "source": [
    "keras.backend.clear_session()\n",
    "np.random.seed(42)\n",
    "tf.random.set_seed(42)"
   ]
  },
  {
   "cell_type": "code",
   "execution_count": 97,
   "id": "8a66f203",
   "metadata": {},
   "outputs": [],
   "source": [
    "model = keras.models.Sequential([\n",
    "    keras.layers.Dense(30, activation='relu', input_shape=[8]),\n",
    "    keras.layers.Dense(30, activation='relu'),\n",
    "    keras.layers.Dense(1)\n",
    "])\n",
    "\n",
    "model.compile(loss='mse', optimizer=keras.optimizers.SGD(learning_rate=1e-3))"
   ]
  },
  {
   "cell_type": "code",
   "execution_count": 99,
   "id": "1660649e",
   "metadata": {
    "scrolled": true
   },
   "outputs": [
    {
     "name": "stdout",
     "output_type": "stream",
     "text": [
      "Epoch 1/30\n",
      "363/363 [==============================] - 2s 5ms/step - loss: 0.3722 - val_loss: 0.4152\n",
      "Epoch 2/30\n",
      "363/363 [==============================] - 2s 5ms/step - loss: 0.3710 - val_loss: 0.4525\n",
      "Epoch 3/30\n",
      "363/363 [==============================] - 2s 5ms/step - loss: 0.3700 - val_loss: 0.4361\n",
      "Epoch 4/30\n",
      "363/363 [==============================] - 2s 5ms/step - loss: 0.3685 - val_loss: 0.4249\n",
      "Epoch 5/30\n",
      "363/363 [==============================] - 2s 5ms/step - loss: 0.3678 - val_loss: 0.4033\n",
      "Epoch 6/30\n",
      "363/363 [==============================] - 2s 5ms/step - loss: 0.3663 - val_loss: 0.4232\n",
      "Epoch 7/30\n",
      "363/363 [==============================] - 2s 5ms/step - loss: 0.3656 - val_loss: 0.4091\n",
      "Epoch 8/30\n",
      "363/363 [==============================] - 2s 5ms/step - loss: 0.3644 - val_loss: 0.3882\n",
      "Epoch 9/30\n",
      "363/363 [==============================] - 2s 5ms/step - loss: 0.3632 - val_loss: 0.4071\n",
      "Epoch 10/30\n",
      "363/363 [==============================] - 2s 5ms/step - loss: 0.3622 - val_loss: 0.4124\n",
      "Epoch 11/30\n",
      "363/363 [==============================] - 2s 5ms/step - loss: 0.3617 - val_loss: 0.3760\n",
      "Epoch 12/30\n",
      "363/363 [==============================] - 2s 5ms/step - loss: 0.3604 - val_loss: 0.4157\n",
      "Epoch 13/30\n",
      "363/363 [==============================] - 2s 5ms/step - loss: 0.3597 - val_loss: 0.3984\n",
      "Epoch 14/30\n",
      "363/363 [==============================] - 2s 5ms/step - loss: 0.3588 - val_loss: 0.3790\n",
      "Epoch 15/30\n",
      "363/363 [==============================] - 2s 5ms/step - loss: 0.3580 - val_loss: 0.3846\n",
      "Epoch 16/30\n",
      "363/363 [==============================] - 2s 5ms/step - loss: 0.3572 - val_loss: 0.3771\n",
      "Epoch 17/30\n",
      "363/363 [==============================] - 2s 5ms/step - loss: 0.3562 - val_loss: 0.4040\n",
      "Epoch 18/30\n",
      "363/363 [==============================] - 2s 5ms/step - loss: 0.3558 - val_loss: 0.3884\n",
      "Epoch 19/30\n",
      "363/363 [==============================] - 2s 5ms/step - loss: 0.3547 - val_loss: 0.3838\n",
      "Epoch 20/30\n",
      "363/363 [==============================] - 2s 5ms/step - loss: 0.3541 - val_loss: 0.4276\n",
      "Epoch 21/30\n",
      "363/363 [==============================] - 2s 5ms/step - loss: 0.3534 - val_loss: 0.4070\n",
      "Epoch 22/30\n",
      "363/363 [==============================] - 2s 5ms/step - loss: 0.3527 - val_loss: 0.4298\n",
      "Epoch 23/30\n",
      "363/363 [==============================] - 2s 5ms/step - loss: 0.3521 - val_loss: 0.3561\n",
      "Epoch 24/30\n",
      "363/363 [==============================] - 2s 5ms/step - loss: 0.3512 - val_loss: 0.3896\n",
      "Epoch 25/30\n",
      "363/363 [==============================] - 2s 5ms/step - loss: 0.3505 - val_loss: 0.4117\n",
      "Epoch 26/30\n",
      "363/363 [==============================] - 2s 5ms/step - loss: 0.3500 - val_loss: 0.4023\n",
      "Epoch 27/30\n",
      "363/363 [==============================] - 2s 5ms/step - loss: 0.3496 - val_loss: 0.3531\n",
      "Epoch 28/30\n",
      "363/363 [==============================] - 2s 5ms/step - loss: 0.3489 - val_loss: 0.3850\n",
      "Epoch 29/30\n",
      "363/363 [==============================] - 2s 5ms/step - loss: 0.3483 - val_loss: 0.3664\n",
      "Epoch 30/30\n",
      "363/363 [==============================] - 2s 5ms/step - loss: 0.3475 - val_loss: 0.3903\n"
     ]
    }
   ],
   "source": [
    "# TensorBoard() 콜백이 로그 디렉토리 생성 -> 훈련하는 동안 이벤트 파일을 만들고 서머리를 기록\n",
    "# 실행할 때마다 하나의 디렉토리가 생성됨\n",
    "\n",
    "# 훈련 로그는 프로파일링 트레이스(profiling trace) 파일도 포함함\n",
    "# -> 텐서보드가 이 파일을 사용해 전체 디바이스에 걸쳐서 모델의 각 부분에서 시간이 얼마나 소요되었는지 보여줌\n",
    "\n",
    "tensorboard_cb = keras.callbacks.TensorBoard(run_logdir)\n",
    "history = model.fit(X_train, y_train, epochs=30,\n",
    "                   validation_data=(X_valid, y_valid),\n",
    "                   callbacks=[checkpoint_cb, tensorboard_cb])"
   ]
  },
  {
   "cell_type": "code",
   "execution_count": 100,
   "id": "fbf3e5ca",
   "metadata": {
    "scrolled": true
   },
   "outputs": [
    {
     "data": {
      "text/html": [
       "\n",
       "      <iframe id=\"tensorboard-frame-4ef828d574830121\" width=\"100%\" height=\"800\" frameborder=\"0\">\n",
       "      </iframe>\n",
       "      <script>\n",
       "        (function() {\n",
       "          const frame = document.getElementById(\"tensorboard-frame-4ef828d574830121\");\n",
       "          const url = new URL(\"/\", window.location);\n",
       "          const port = 6006;\n",
       "          if (port) {\n",
       "            url.port = port;\n",
       "          }\n",
       "          frame.src = url;\n",
       "        })();\n",
       "      </script>\n",
       "    "
      ],
      "text/plain": [
       "<IPython.core.display.HTML object>"
      ]
     },
     "metadata": {},
     "output_type": "display_data"
    }
   ],
   "source": [
    "%load_ext tensorboard\n",
    "%tensorboard --logdir=./my_logs --port=6006"
   ]
  },
  {
   "cell_type": "markdown",
   "id": "a513c321",
   "metadata": {},
   "source": [
    "## 10.3 신경망 하이퍼파라미터 튜닝하기"
   ]
  },
  {
   "cell_type": "code",
   "execution_count": 105,
   "id": "5e616a9c",
   "metadata": {},
   "outputs": [],
   "source": [
    "# 은닉층의 개수, 뉴런의 개수, 그 외 여러 하이퍼파라미터 등을 어떻게 결정해야 할까?\n",
    "# 신경망은 유연하다 = 조정할 하이퍼파라미터가 많다\n",
    "# 간단한 다층 퍼셉트론에서도 층의 개수, 층마다 있는 뉴런의 개수, 각 층에서의 활성화 함수, 가중치 초기화 전략 등...\n",
    "\n",
    "# 한 가지 방법은 여러 하이퍼파라미터 조합을 시도해보고 어떤 것이 검증 셋에서(또는 K-fold 교차검증에서) 가장 좋은 점수를 내는지 확인하는 것\n",
    "# 예를 들어 GridSearchCV나 RandomizedSearchCV를 사용\n",
    "# 이렇게 하려면 케라스 모델을 사이킷런 추정기처럼 보이도록 바꿔야 함\n",
    "\n",
    "keras.backend.clear_session()\n",
    "np.random.seed(42)\n",
    "tf.random.set_seed(42)"
   ]
  },
  {
   "cell_type": "code",
   "execution_count": 109,
   "id": "e52ced26",
   "metadata": {},
   "outputs": [],
   "source": [
    "def build_model(n_hidden=1, n_neurons=30, learning_rate=3e-3, input_shape=[8]):\n",
    "    model = keras.models.Sequential()\n",
    "    model.add(keras.layers.InputLayer(input_shape=input_shape))\n",
    "    for layer in range(n_hidden):\n",
    "        model.add(keras.layers.Dense(n_neurons, activation='relu'))\n",
    "    model.add(keras.layers.Dense(1))\n",
    "    optimizer = keras.optimizers.SGD(learning_rate=learning_rate)\n",
    "    model.compile(loss='mse', optimizer=optimizer)\n",
    "    return model"
   ]
  },
  {
   "cell_type": "code",
   "execution_count": 110,
   "id": "eb4f7814",
   "metadata": {},
   "outputs": [
    {
     "name": "stderr",
     "output_type": "stream",
     "text": [
      "/var/folders/h4/qkygjbx150l41hr_cmr5wpt80000gn/T/ipykernel_8214/1709004121.py:1: DeprecationWarning: KerasRegressor is deprecated, use Sci-Keras (https://github.com/adriangb/scikeras) instead. See https://www.adriangb.com/scikeras/stable/migration.html for help migrating.\n",
      "  keras_reg = keras.wrappers.scikit_learn.KerasRegressor(build_model)\n"
     ]
    }
   ],
   "source": [
    "keras_reg = keras.wrappers.scikit_learn.KerasRegressor(build_model)\n",
    "\n",
    "# KerasRegressor 객체는 build_model() 함수로 만들어진 케라스 모델을 감싸는 간단한 waapper임\n",
    "# 이제 일반 사이킷런 회귀 추정기처럼 이 객체를 사용할 수 있음\n",
    "# fit() 메서드로 모델을 훈련하고 score() 메서드로 평가하고 predict() 메서드로 예측을 만들 수 있음"
   ]
  },
  {
   "cell_type": "code",
   "execution_count": 111,
   "id": "252ded22",
   "metadata": {
    "scrolled": true
   },
   "outputs": [
    {
     "name": "stdout",
     "output_type": "stream",
     "text": [
      "Epoch 1/100\n",
      " 26/363 [=>............................] - ETA: 1s - loss: 3.6218 "
     ]
    },
    {
     "name": "stderr",
     "output_type": "stream",
     "text": [
      "2022-08-25 15:58:20.625843: I tensorflow/core/grappler/optimizers/custom_graph_optimizer_registry.cc:113] Plugin optimizer for device_type GPU is enabled.\n"
     ]
    },
    {
     "name": "stdout",
     "output_type": "stream",
     "text": [
      "356/363 [============================>.] - ETA: 0s - loss: 1.2082"
     ]
    },
    {
     "name": "stderr",
     "output_type": "stream",
     "text": [
      "2022-08-25 15:58:22.096205: I tensorflow/core/grappler/optimizers/custom_graph_optimizer_registry.cc:113] Plugin optimizer for device_type GPU is enabled.\n"
     ]
    },
    {
     "name": "stdout",
     "output_type": "stream",
     "text": [
      "363/363 [==============================] - 2s 5ms/step - loss: 1.1971 - val_loss: 1.7696\n",
      "Epoch 2/100\n",
      "363/363 [==============================] - 2s 5ms/step - loss: 0.6045 - val_loss: 0.5361\n",
      "Epoch 3/100\n",
      "363/363 [==============================] - 2s 4ms/step - loss: 0.5203 - val_loss: 0.5093\n",
      "Epoch 4/100\n",
      "363/363 [==============================] - 2s 4ms/step - loss: 0.4783 - val_loss: 0.4392\n",
      "Epoch 5/100\n",
      "363/363 [==============================] - 2s 4ms/step - loss: 0.4524 - val_loss: 0.4161\n",
      "Epoch 6/100\n",
      "363/363 [==============================] - 2s 4ms/step - loss: 0.4353 - val_loss: 0.4036\n",
      "Epoch 7/100\n",
      "363/363 [==============================] - 2s 4ms/step - loss: 0.4249 - val_loss: 0.3930\n",
      "Epoch 8/100\n",
      "363/363 [==============================] - 2s 4ms/step - loss: 0.4174 - val_loss: 0.3925\n",
      "Epoch 9/100\n",
      "363/363 [==============================] - 2s 4ms/step - loss: 0.4104 - val_loss: 0.3853\n",
      "Epoch 10/100\n",
      "363/363 [==============================] - 2s 4ms/step - loss: 0.4056 - val_loss: 0.3835\n",
      "Epoch 11/100\n",
      "363/363 [==============================] - 2s 4ms/step - loss: 0.4019 - val_loss: 0.3895\n",
      "Epoch 12/100\n",
      "363/363 [==============================] - 2s 4ms/step - loss: 0.3990 - val_loss: 0.3862\n",
      "Epoch 13/100\n",
      "363/363 [==============================] - 2s 4ms/step - loss: 0.3957 - val_loss: 0.3989\n",
      "Epoch 14/100\n",
      "363/363 [==============================] - 2s 4ms/step - loss: 0.3933 - val_loss: 0.3874\n",
      "Epoch 15/100\n",
      "363/363 [==============================] - 2s 4ms/step - loss: 0.3919 - val_loss: 0.3781\n",
      "Epoch 16/100\n",
      "363/363 [==============================] - 2s 4ms/step - loss: 0.3888 - val_loss: 0.3754\n",
      "Epoch 17/100\n",
      "363/363 [==============================] - 2s 4ms/step - loss: 0.3867 - val_loss: 0.3953\n",
      "Epoch 18/100\n",
      "363/363 [==============================] - 2s 4ms/step - loss: 0.3858 - val_loss: 0.3955\n",
      "Epoch 19/100\n",
      "363/363 [==============================] - 2s 4ms/step - loss: 0.3838 - val_loss: 0.3855\n",
      "Epoch 20/100\n",
      "363/363 [==============================] - 2s 5ms/step - loss: 0.3828 - val_loss: 0.4188\n",
      "Epoch 21/100\n",
      "363/363 [==============================] - 2s 5ms/step - loss: 0.3803 - val_loss: 0.3911\n",
      "Epoch 22/100\n",
      "363/363 [==============================] - 2s 5ms/step - loss: 0.3806 - val_loss: 0.4174\n",
      "Epoch 23/100\n",
      "363/363 [==============================] - 2s 5ms/step - loss: 0.3775 - val_loss: 0.3698\n",
      "Epoch 24/100\n",
      "363/363 [==============================] - 2s 5ms/step - loss: 0.3747 - val_loss: 0.3931\n",
      "Epoch 25/100\n",
      "363/363 [==============================] - 2s 5ms/step - loss: 0.3742 - val_loss: 0.4070\n",
      "Epoch 26/100\n",
      "363/363 [==============================] - 2s 4ms/step - loss: 0.3737 - val_loss: 0.4035\n",
      "Epoch 27/100\n",
      "363/363 [==============================] - 2s 5ms/step - loss: 0.3730 - val_loss: 0.3677\n",
      "Epoch 28/100\n",
      "363/363 [==============================] - 2s 5ms/step - loss: 0.3717 - val_loss: 0.4000\n",
      "Epoch 29/100\n",
      "363/363 [==============================] - 2s 5ms/step - loss: 0.3694 - val_loss: 0.3803\n",
      "Epoch 30/100\n",
      "363/363 [==============================] - 2s 5ms/step - loss: 0.3691 - val_loss: 0.4082\n",
      "Epoch 31/100\n",
      "363/363 [==============================] - 2s 5ms/step - loss: 0.3659 - val_loss: 0.3744\n",
      "Epoch 32/100\n",
      "363/363 [==============================] - 2s 5ms/step - loss: 0.3652 - val_loss: 0.4085\n",
      "Epoch 33/100\n",
      "363/363 [==============================] - 2s 4ms/step - loss: 0.3656 - val_loss: 0.3732\n",
      "Epoch 34/100\n",
      "363/363 [==============================] - 2s 5ms/step - loss: 0.3635 - val_loss: 0.3840\n",
      "Epoch 35/100\n",
      "363/363 [==============================] - 2s 5ms/step - loss: 0.3637 - val_loss: 0.4047\n",
      "Epoch 36/100\n",
      "363/363 [==============================] - 2s 5ms/step - loss: 0.3614 - val_loss: 0.3549\n",
      "Epoch 37/100\n",
      "363/363 [==============================] - 2s 4ms/step - loss: 0.3616 - val_loss: 0.3838\n",
      "Epoch 38/100\n",
      "363/363 [==============================] - 2s 4ms/step - loss: 0.3594 - val_loss: 0.3638\n",
      "Epoch 39/100\n",
      "363/363 [==============================] - 2s 4ms/step - loss: 0.3591 - val_loss: 0.3606\n",
      "Epoch 40/100\n",
      "363/363 [==============================] - 2s 4ms/step - loss: 0.3578 - val_loss: 0.3765\n",
      "Epoch 41/100\n",
      "363/363 [==============================] - 2s 4ms/step - loss: 0.3605 - val_loss: 0.3957\n",
      "Epoch 42/100\n",
      "363/363 [==============================] - 2s 4ms/step - loss: 0.3584 - val_loss: 0.4014\n",
      "Epoch 43/100\n",
      "363/363 [==============================] - 2s 5ms/step - loss: 0.3607 - val_loss: 0.3822\n",
      "Epoch 44/100\n",
      "363/363 [==============================] - 2s 4ms/step - loss: 0.3546 - val_loss: 0.3985\n",
      "Epoch 45/100\n",
      "363/363 [==============================] - 2s 5ms/step - loss: 0.3544 - val_loss: 0.3526\n",
      "Epoch 46/100\n",
      "363/363 [==============================] - 2s 5ms/step - loss: 0.3533 - val_loss: 0.3484\n",
      "Epoch 47/100\n",
      "363/363 [==============================] - 2s 5ms/step - loss: 0.3522 - val_loss: 0.3853\n",
      "Epoch 48/100\n",
      "363/363 [==============================] - 2s 5ms/step - loss: 0.3521 - val_loss: 0.3812\n",
      "Epoch 49/100\n",
      "363/363 [==============================] - 2s 4ms/step - loss: 0.3553 - val_loss: 0.3599\n",
      "Epoch 50/100\n",
      "363/363 [==============================] - 2s 5ms/step - loss: 0.3505 - val_loss: 0.3408\n",
      "Epoch 51/100\n",
      "363/363 [==============================] - 2s 5ms/step - loss: 0.3494 - val_loss: 0.4096\n",
      "Epoch 52/100\n",
      "363/363 [==============================] - 2s 4ms/step - loss: 0.3490 - val_loss: 0.3339\n",
      "Epoch 53/100\n",
      "363/363 [==============================] - 2s 5ms/step - loss: 0.3482 - val_loss: 0.4639\n",
      "Epoch 54/100\n",
      "363/363 [==============================] - 2s 4ms/step - loss: 0.3496 - val_loss: 0.3391\n",
      "Epoch 55/100\n",
      "363/363 [==============================] - 2s 5ms/step - loss: 0.3470 - val_loss: 0.3614\n",
      "Epoch 56/100\n",
      "363/363 [==============================] - 2s 5ms/step - loss: 0.3467 - val_loss: 0.3382\n",
      "Epoch 57/100\n",
      "363/363 [==============================] - 2s 5ms/step - loss: 0.3455 - val_loss: 0.3303\n",
      "Epoch 58/100\n",
      "363/363 [==============================] - 2s 4ms/step - loss: 0.3451 - val_loss: 0.4406\n",
      "Epoch 59/100\n",
      "363/363 [==============================] - 2s 4ms/step - loss: 0.3480 - val_loss: 0.3709\n",
      "Epoch 60/100\n",
      "363/363 [==============================] - 2s 5ms/step - loss: 0.3451 - val_loss: 0.3537\n",
      "Epoch 61/100\n",
      "363/363 [==============================] - 2s 5ms/step - loss: 0.3428 - val_loss: 0.3503\n",
      "Epoch 62/100\n",
      "363/363 [==============================] - 2s 5ms/step - loss: 0.3433 - val_loss: 0.3946\n",
      "Epoch 63/100\n",
      "363/363 [==============================] - 2s 5ms/step - loss: 0.3429 - val_loss: 0.3308\n",
      "Epoch 64/100\n",
      "363/363 [==============================] - 2s 5ms/step - loss: 0.3494 - val_loss: 0.3569\n",
      "Epoch 65/100\n",
      "363/363 [==============================] - 2s 5ms/step - loss: 0.3423 - val_loss: 0.3514\n",
      "Epoch 66/100\n",
      "363/363 [==============================] - 2s 5ms/step - loss: 0.3408 - val_loss: 0.3267\n",
      "Epoch 67/100\n",
      "363/363 [==============================] - 2s 5ms/step - loss: 0.3438 - val_loss: 0.4171\n",
      "Epoch 68/100\n",
      "363/363 [==============================] - 2s 4ms/step - loss: 0.3406 - val_loss: 0.3412\n",
      "Epoch 69/100\n",
      "363/363 [==============================] - 2s 4ms/step - loss: 0.3399 - val_loss: 0.3718\n",
      "Epoch 70/100\n",
      "363/363 [==============================] - 2s 4ms/step - loss: 0.3393 - val_loss: 0.4772\n",
      "Epoch 71/100\n",
      "363/363 [==============================] - 2s 4ms/step - loss: 0.3433 - val_loss: 0.3767\n",
      "Epoch 72/100\n",
      "363/363 [==============================] - 2s 4ms/step - loss: 0.3383 - val_loss: 0.3845\n",
      "Epoch 73/100\n",
      "363/363 [==============================] - 2s 4ms/step - loss: 0.3389 - val_loss: 0.3639\n",
      "Epoch 74/100\n",
      "363/363 [==============================] - 2s 5ms/step - loss: 0.3394 - val_loss: 0.5497\n",
      "Epoch 75/100\n",
      "363/363 [==============================] - 2s 5ms/step - loss: 0.3387 - val_loss: 0.3631\n",
      "Epoch 76/100\n",
      "363/363 [==============================] - 2s 5ms/step - loss: 0.3456 - val_loss: 0.3820\n"
     ]
    },
    {
     "data": {
      "text/plain": [
       "<keras.callbacks.History at 0x2ae96fb80>"
      ]
     },
     "execution_count": 111,
     "metadata": {},
     "output_type": "execute_result"
    }
   ],
   "source": [
    "keras_reg.fit(X_train, y_train, epochs=100,\n",
    "             validation_data=(X_valid, y_valid),\n",
    "             callbacks=[keras.callbacks.EarlyStopping(patience=10)])"
   ]
  },
  {
   "cell_type": "code",
   "execution_count": 112,
   "id": "956de36e",
   "metadata": {},
   "outputs": [
    {
     "name": "stdout",
     "output_type": "stream",
     "text": [
      "162/162 [==============================] - 1s 3ms/step - loss: 0.3422\n"
     ]
    }
   ],
   "source": [
    "mse_test = keras_reg.score(X_test, y_test)"
   ]
  },
  {
   "cell_type": "code",
   "execution_count": 113,
   "id": "d0957db8",
   "metadata": {},
   "outputs": [
    {
     "name": "stdout",
     "output_type": "stream",
     "text": [
      "1/1 [==============================] - 0s 37ms/step\n"
     ]
    },
    {
     "name": "stderr",
     "output_type": "stream",
     "text": [
      "2022-08-25 16:01:10.274148: I tensorflow/core/grappler/optimizers/custom_graph_optimizer_registry.cc:113] Plugin optimizer for device_type GPU is enabled.\n"
     ]
    }
   ],
   "source": [
    "y_pred = keras_reg.predict(X_new)"
   ]
  },
  {
   "cell_type": "code",
   "execution_count": 114,
   "id": "85e8753b",
   "metadata": {},
   "outputs": [],
   "source": [
    "np.random.seed(42)\n",
    "tf.random.set_seed(42)"
   ]
  },
  {
   "cell_type": "code",
   "execution_count": null,
   "id": "16fe65f4",
   "metadata": {},
   "outputs": [],
   "source": [
    "# 모델 하나를 훈련하고 평가하려는 것이 아니라 수백 개의 모델을 훈련하고 검증 셋에서 최상의 모델을 선택해야 함\n",
    "# 하이퍼파라미터가 많으므로 그리드 탐색보단 랜덤 탐색이 좋음\n",
    "\n",
    "# 아래는 은닉층 개수, 뉴런 개수, 학습률을 사용해 하이퍼파라미터 탐색 수행\n",
    "\n",
    "from scipy.stats import reciprocal # 역수\n",
    "from sklearn.model_selection import RandomizedSearchCV\n",
    "\n",
    "param_distribs = {\n",
    "    'n_hidden': [0, 1, 2, 3],\n",
    "    'n_neurons': np.arange(1, 100).tolist(),\n",
    "    'learning_rate': reciprocal(3e-4, 3e-3).rvs(1000).tolist(),\n",
    "}\n",
    "\n",
    "rnd_search_cv = RandomizedSearchCV(keras_reg, param_distribs, n_iter=10, cv=3)\n",
    "# RandomizedSearchCV는 K-fold 교차 검증을 사용하기 때문에 validation set을 사용하지 않음\n",
    "# 아래 validation_data는 조기 종료에만 사용됨\n",
    "# 아래와 같이 래퍼로 감싸진 케라스 모델에 전달할 추가적인 매개변수가 fit() 메서드에 있는 것을 제외하고는 2장에서 한 것과 동일\n",
    "rnd_search_cv.fit(X_train, y_train, epochs=100,\n",
    "                 validation_data=(X_valid, y_valid),\n",
    "                 callbacks=[keras.callbacks.EarlyStopping(patience=10)])"
   ]
  },
  {
   "cell_type": "markdown",
   "id": "c3b5ede9",
   "metadata": {},
   "source": [
    "랜덤 탐색은 어렵지 않으며 간단한 문제에서 잘 작동함\n",
    "\n",
    "하지만 훈련 시간이 길면 탐색 과정을 수동으로 보조하여 이 문제를 부분적으로 완화할 수 있음\n",
    "\n",
    "하이퍼 파라미터 값의 범위를 크게 하여 빠르게 첫 번째 랜덤 탐색을 수행하고, 첫 번째 탐색에서 찾은 최상의 하이퍼파라미터 값을 중심으로 좁은 밤위를 탐색 -> 반복 -> 하지만 이 방법은 시간이 많이 소요되며 최상의 방법은 아닐 것임\n",
    "\n",
    "- 훨씬 더 효율적으로 하이퍼파라미터 공간을 탐색하는 여러 기법(아이디어: 탐색 지역이 좋다고 판명될 때 더 탐색을 수행함 -> 수동으로 탐색 영역을 좁혔던 작업을 대신 관리하여 훨씬 적은 시간에 더 나은 솔루션을 만들 수 있음)\n",
    "#### 하이퍼파라미터 최적화에 사용할 수 있는 몇 개의 파이썬 라이브러리\n",
    "    - Hyperopt\n",
    "    - Hyperas, kopt, Talos\n",
    "    - Keras Tuner\n",
    "    - Scikit-Optimize(skopt)\n",
    "    - Spearmint\n",
    "    - Hyperband\n",
    "    - Sklearn-Deap"
   ]
  },
  {
   "cell_type": "code",
   "execution_count": null,
   "id": "3ed2c762",
   "metadata": {},
   "outputs": [],
   "source": [
    "rnd_search_cv.best_params_"
   ]
  },
  {
   "cell_type": "code",
   "execution_count": null,
   "id": "9d2a54d3",
   "metadata": {},
   "outputs": [],
   "source": [
    "rnd_search_cv.best_score_"
   ]
  },
  {
   "cell_type": "code",
   "execution_count": null,
   "id": "88f41858",
   "metadata": {},
   "outputs": [],
   "source": [
    "rnd_search_cv.best_estimator_"
   ]
  },
  {
   "cell_type": "code",
   "execution_count": null,
   "id": "02e7117c",
   "metadata": {},
   "outputs": [],
   "source": [
    "rnd_search_cv.score(X_test, y_test)"
   ]
  },
  {
   "cell_type": "code",
   "execution_count": null,
   "id": "87f459b9",
   "metadata": {},
   "outputs": [],
   "source": [
    "model = rnd_search_cv.best_estimator_.model\n",
    "model"
   ]
  },
  {
   "cell_type": "code",
   "execution_count": null,
   "id": "75d945a9",
   "metadata": {},
   "outputs": [],
   "source": [
    "model.evaluate(X_test, y_test)"
   ]
  },
  {
   "cell_type": "markdown",
   "id": "d4cd2c98",
   "metadata": {},
   "source": [
    "### 10. 3. 1 은닉층 개수"
   ]
  },
  {
   "cell_type": "markdown",
   "id": "9fafab03",
   "metadata": {},
   "source": [
    "이론적으로는 은닝층이 하나인 다층 퍼셉트론이더라도 뉴런 개수가 충분하다면 아주 복잡한 함수도 모델링할 수 있음\n",
    "\n",
    "하지만 복잡한 함수를 모델링하는 데 심층 신경망이 얕은 신경망보다 훨씬 적은 수의 뉴런을 사용함 -> 심층 신경망의 파라미터 효율성이 훨씬 좋음 -> 동일한 양의 훈련 데이터에서 더 높은 성능을 낼 수 있음\n",
    "\n",
    "왜? 예를 들어 숲을 그린다고 했을 때\n",
    "- 얕은 신경망: 복붙 기능 없이 숲을 그림\n",
    "- 심층 신경망: 잎과 가지를 복붙해 나무를 그리고, 나무를 복붙해서 숲을 그림 -> 실제 데이터는 이런 계층 구조를 가진 경우가 많으므로 심층 신경망은 이런 면에서 유리함\n",
    "    - 아래쪽 은닉층: 저수준의 구조를 모델링(예를 들어 선)\n",
    "    - 중간 은닉층: 저수준의 구조를 연결해 중간 수준의 구조를 모델링(선을 연결한 삼각형, 사각형)\n",
    "    - 가장 위쪽 은닉층과 출력층: 중간 수준의 구조를 연결해 고수준의 모델을 모델링(여러 모양을 연결한 얼굴)\n",
    "    \n",
    "    - 심층 신경망은 새로운 데이터에 일반화되는 능력도 향상시켜줌\n",
    "        - 예를 들어 사진에서 얼굴을 인식하는 모델을 훈련한 후, 헤어스타일을 인식하는 새로운 신경망을 새로 훈련하려면 첫 번째 네트워크의 하위 층을 재사용하여 훈련을 시작할 수 있음\n",
    "        - 이런 방식을 사용하면 대부분의 사진에 나타나는 저수준 구조를 학습할 필요가 없게 됨(즉 고수준 구조만 학습하면 됨) -> 이를 `전이학습(transfer learning)`이라고 함\n",
    "\n",
    "---\n",
    "\n",
    "요약하면 하나 또는 두 개의 은닉층만으로도 많은 문제를 꽤 잘 해결할 것(MNIST 데이터셋에서는 몇백 개의 뉴런을 가진 은닉층 하나로 97% 이상의 정확도를 얻을 수 있음)\n",
    "\n",
    "대규모 이미지 분류나 음성 인식같이 매우 복잡한 작업에서는 일반적으로 수십, 수백 개 층으로 이루어진 네트워크가 필요함. 그리고 훈련 데이터가 아주 많이 필요함. -> 하지만 이런 네트워크를 처음부터 훈련하는 경우는 드묾 -> 비슷한 작업에서 가장 뛰어난 성능을 낸 미리 훈련된 네트워크 일부를 재사용하는 것이 일반적임 -> 이는 속도도 훨씬 빠르고 데이터도 훨씬 적게 필요함"
   ]
  },
  {
   "cell_type": "markdown",
   "id": "bc828974",
   "metadata": {},
   "source": [
    "### 10.3.2 은닉층의 뉴런 개수"
   ]
  },
  {
   "cell_type": "markdown",
   "id": "e52ee8af",
   "metadata": {},
   "source": [
    "입력층과 출력층의 뉴런 개수는 해당 작업에 필요한 입력과 출력의 형태에 따라 결정됨\n",
    "- MNIST의 입력층: 28*28=784개의 입력 뉴런 필요\n",
    "- MNIST의 출력층: 10개(0~9)의 출력 뉴런 필요\n",
    "\n",
    "은닉층의 구성 방식: 일반적으로 각 층의 뉴런을 점점 줄여서 깔대기처럼 구성함 -> 저수준의 많은 특성이 고수준의 적은 특성으로 합쳐질 수 있기 때문\n",
    "\n",
    "하지만 이 구성은 요즘엔 일반적이지 않음. 대부분의 경우 모든 은닉층에 같은 크기를 사용해도 동일하거나 더 나은 성능을 나타냄. 또한 튜닝할 하이퍼파라미터가 층마다 한 개씩이 아니라 전체를 통틀어 한 개가 됨. 데이터셋에 따라 다르지만 다른 은닉층보다 첫 번째 은닉층을 크게 하는 것이 도움이 됨.\n",
    "\n",
    "층의 개수와 마찬가지로 네트워크가 과대적합이 시작되기 전까지 점진적으로 뉴런 수를 늘릴 수 있음. 하지만 실전에서는 필요한 것보다 더 많은 층과 뉴런을 가진 모델을 선택하고, 과대적합되지 않도록 조기 종료나 규제 기법을 사용하는 것이 간단하고 효과적임\n",
    "\n",
    "한 층의 뉴런 수가 너무 적으면 입력에 있는 유용한 정보를 모두 유지하기 위한 충분한 표현 능력을 가지지 못함(예를 들어 뉴런 두 개를 가진 층은 2D 데이터만 출력할 수 있음. 만약 3D 데이터를 처리한다면 일부 정보를 잃고 나머지 층이 어떻든 정보는 복원되지 않음)\n",
    "\n",
    "##### 일반적으로 층의 뉴런 수보다 층 수를 늘리는 쪽이 이득이 많음"
   ]
  },
  {
   "cell_type": "markdown",
   "id": "d80cf5d8",
   "metadata": {},
   "source": [
    "### 10.3.3 학습률, 배치 크기 그리고 다른 하이퍼파라미터"
   ]
  },
  {
   "cell_type": "markdown",
   "id": "3037fc6c",
   "metadata": {},
   "source": [
    "- 학습률\n",
    "    - 일반적으로 최적의 학습률은 최대 학습률(훈련 알고리즘이 발산하는 학습률)의 절반 정도\n",
    "    - 좋은 학습률을 찾는 한 가지 방법: 매우 낮은 학습률에서 시작해 점진적으로 매우 큰 학습률까지 수백 번 반복하여 모델을 훈련하는 것\n",
    "    - 최적의 학습률은 다른 하이퍼파라미터에 의존적임. 특히 배치 크기에 영향을 많이 받음. 따라서 다른 하이퍼파라미터를 수정하면 학습률도 반드시 튜닝해야 함\n",
    "- 옵티마이저\n",
    "- 배치 크기\n",
    "    - 배치 크기는 모델 성능과 훈련 시간에 큰 영향을 미칠 수 있음\n",
    "    - 큰 배치 크기 사용의 장점: GPU와 같은 하드웨어 가속기를 효율적으로 활용할 수 있음\n",
    "    - 실전에서 큰 배치 크기를 사용하면 훈련 초기에 종종 불안정하게 훈련됨(결과 모델은 작은 배치 크기로 훈련된 모델만큼 일반화 성능을 내지 못할 수 있음)\n",
    "    - 작은 배치 크기는 2 ~ 32\n",
    "- 활성화 함수\n",
    "    - 일반적으로 ReLU 활성화 함수가 모든 은닉층에 좋은 기본값. 출력층의 활성화 함수는 수행하는 작업에 따라 달라짐\n",
    "- 반복 횟수\n",
    "    - 대부분 반복 횟수는 튜닝하지 않음. 대신 조기 종료를 사용함"
   ]
  },
  {
   "cell_type": "code",
   "execution_count": null,
   "id": "049f5056",
   "metadata": {},
   "outputs": [],
   "source": []
  }
 ],
 "metadata": {
  "kernelspec": {
   "display_name": "Python 3 (ipykernel)",
   "language": "python",
   "name": "python3"
  },
  "language_info": {
   "codemirror_mode": {
    "name": "ipython",
    "version": 3
   },
   "file_extension": ".py",
   "mimetype": "text/x-python",
   "name": "python",
   "nbconvert_exporter": "python",
   "pygments_lexer": "ipython3",
   "version": "3.8.13"
  }
 },
 "nbformat": 4,
 "nbformat_minor": 5
}
